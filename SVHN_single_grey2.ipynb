{
  "nbformat": 4,
  "nbformat_minor": 0,
  "metadata": {
    "colab": {
      "name": "SVHN_single_grey2.ipynb",
      "provenance": [],
      "collapsed_sections": []
    },
    "kernelspec": {
      "name": "python3",
      "display_name": "Python 3"
    }
  },
  "cells": [
    {
      "cell_type": "markdown",
      "metadata": {
        "id": "cP4Mcs43Mtp5",
        "colab_type": "text"
      },
      "source": [
        "Fully Connected Layer"
      ]
    },
    {
      "cell_type": "code",
      "metadata": {
        "id": "o7vKCpWLMljI",
        "colab_type": "code",
        "colab": {}
      },
      "source": [
        "import numpy as np \n",
        "\n",
        "class Linear():\n",
        "    def __init__(self, in_size, out_size):\n",
        "        self.W = np.random.randn(in_size, out_size) * 0.01\n",
        "        self.b = np.zeros((1, out_size))\n",
        "        self.params = [self.W, self.b]\n",
        "        self.gradW = None\n",
        "        self.gradB = None\n",
        "        self.gradInput = None \n",
        "        #self.gamma = np.ones((in_size, 1))\n",
        "        #self.beta = np.zeros((in_size, 1))\n",
        "        #self.eps_norm=1e-8\n",
        "        self.cache = None\n",
        "        self.gamma = None\n",
        "        self.beta = None    \n",
        "        #self.mu = None\n",
        "        #self.var = None    \n",
        "\n",
        "    def forward(self, X):\n",
        "        self.X = X\n",
        "        #self.gamma = np.sqrt(np.var(X))\n",
        "        #self.beta = np.mean(X)    \n",
        "        #self.mu = np.mean(X,axis=0)\n",
        "        #self.var = np.var(X, axis=0)\n",
        "        #X = batchnorm_forward1(X,self.mu,self.var,self.gamma,self.beta)\n",
        "        X, self.cache = batchnorm_forward(X)\n",
        "        self.output = np.dot(X, self.W) + self.b\n",
        "        return self.output\n",
        "\n",
        "    def backward(self, nextgrad):\n",
        "        #nextgrad, dgamma, dbeta = batchnorm_backward1(nextgrad,self.X,self.mu,self.var,self.gamma,self.beta)\n",
        "        nextgrad, dgamma, dbeta = batchnorm_backward(nextgrad,self.cache)\n",
        "        self.gradW = np.dot(self.X.T, nextgrad)\n",
        "        self.gradB = np.sum(nextgrad, axis=0)\n",
        "        self.gradInput = np.dot(nextgrad, self.W.T)\n",
        "        self.gamma = dgamma\n",
        "        self.beta = dbeta\n",
        "        return self.gradInput, [self.gradW, self.gradB]"
      ],
      "execution_count": 0,
      "outputs": []
    },
    {
      "cell_type": "code",
      "metadata": {
        "id": "tVbCBkaDBuDX",
        "colab_type": "code",
        "colab": {}
      },
      "source": [
        "def batchnorm_forward1(x,mu,var,gamma,beta):\n",
        "  X_norm = (x - mu)/np.sqrt(var + 1e-8)\n",
        "  out = gamma * X_norm + beta\n",
        "  return out\n",
        "  \n",
        "\n",
        "def batchnorm_backward1(dout,x,mu,var,gamma,beta):\n",
        "  X_mu = x - mu\n",
        "  var_inv = 1./np.sqrt(var + 1e-8)\n",
        "  dX_norm = dout * gamma\n",
        "  dvar = np.sum(dX_norm * X_mu,axis=0) * -0.5 * (var + 1e-8)**(-3/2)\n",
        "  dmu = np.sum(dX_norm * -var_inv ,axis=0) + dvar * 1/n_X * np.sum(-2.* X_mu, axis=0)\n",
        "  dX = (dX_norm * var_inv) + (dmu / n_X) + (dvar * 2/n_X * X_mu)\n",
        "  dbeta = np.sum(dout,axis=0)\n",
        "  dgamma = dout * X_norm\n",
        "  return dx, dgamma, dbeta "
      ],
      "execution_count": 0,
      "outputs": []
    },
    {
      "cell_type": "code",
      "metadata": {
        "id": "pPRveDKhz6L6",
        "colab_type": "code",
        "colab": {}
      },
      "source": [
        "def batchnorm_forward(x):\n",
        "      N, D = x.shape\n",
        "      gamma = np.sqrt(np.var(x))\n",
        "      beta = np.mean(x)\n",
        "      eps=1e-8      \n",
        "      #step1: calculate mean\n",
        "      mu = 1./N * np.sum(x, axis = 0)\n",
        "      #step2: subtract mean vector of every trainings example  \n",
        "      xmu = x - mu\n",
        "      #step3: following the lower branch - calculation denominator\n",
        "      sq = xmu ** 2\n",
        "      #step4: calculate variance\n",
        "      var = 1./N * np.sum(sq, axis = 0)\n",
        "      #step5: add eps for numerical stability, then sqrt\n",
        "      sqrtvar = np.sqrt(var + eps)\n",
        "      #step6: invert sqrtwar\n",
        "      ivar = 1./sqrtvar\n",
        "      #step7: execute normalization\n",
        "      xhat = xmu * ivar\n",
        "      #step8: Nor the two transformation steps\n",
        "      gammax = gamma * xhat\n",
        "      #step9\n",
        "      out = gammax + beta\n",
        "      #store intermediate\n",
        "      cache = (xhat,gamma,xmu,ivar,sqrtvar,var,eps)\n",
        "      return out, cache\n",
        "  \n",
        "\n",
        "def batchnorm_backward(dout, cache):\n",
        "\n",
        "      #unfold the variables stored in cache\n",
        "      xhat,gamma,xmu,ivar,sqrtvar,var,eps = cache\n",
        "      #get the dimensions of the input/output\n",
        "      N,D = dout.shape\n",
        "      #step9\n",
        "      dbeta = np.sum(dout, axis=0)\n",
        "      dgammax = dout #not necessary, but more understandable\n",
        "      #step8\n",
        "      #dgamma = np.sum(dgammax*xhat, axis=0)\n",
        "      dgamma = np.sum(np.dot(dgammax, xhat), axis=0)      \n",
        "      dxhat = dgammax * gamma\n",
        "      #step7\n",
        "      divar = np.sum(dxhat*xmu, axis=0)\n",
        "      dxmu1 = dxhat * ivar\n",
        "      #step6\n",
        "      dsqrtvar = -1. /(sqrtvar**2) * divar\n",
        "      #step5\n",
        "      dvar = 0.5 * 1. /np.sqrt(var+eps) * dsqrtvar\n",
        "      #step4\n",
        "      dsq = 1. /N * np.ones((N,D)) * dvar\n",
        "      #step3\n",
        "      dxmu2 = 2 * xmu * dsq\n",
        "      #step2\n",
        "      dx1 = (dxmu1 + dxmu2)\n",
        "      dmu = -1 * np.sum(dxmu1+dxmu2, axis=0)\n",
        "      #step1\n",
        "      dx2 = 1. /N * np.ones((N,D)) * dmu\n",
        "      #step0\n",
        "      dx = dx1 + dx2\n",
        "      return dx, dgamma, dbeta "
      ],
      "execution_count": 0,
      "outputs": []
    },
    {
      "cell_type": "code",
      "metadata": {
        "id": "BXsdjbg0OJ0z",
        "colab_type": "code",
        "colab": {}
      },
      "source": [
        "class Batchnorm():\n",
        "\n",
        "    def __init__(self,):\n",
        "        self.gamma = np.ones((in_size, 1))\n",
        "        self.beta = np.zeros((in_size, 1))\n",
        "        self.eps_norm=1e-8\n",
        "        self.cache = None\n",
        "\n",
        "    def forward(self,x):\n",
        "      N, D = x.shape\n",
        "      #step1: calculate mean\n",
        "      mu = 1./N * np.sum(x, axis = 0)\n",
        "      #step2: subtract mean vector of every trainings example  \n",
        "      xmu = x - mu\n",
        "      #step3: following the lower branch - calculation denominator\n",
        "      sq = xmu ** 2\n",
        "      #step4: calculate variance\n",
        "      var = 1./N * np.sum(sq, axis = 0)\n",
        "      #step5: add eps for numerical stability, then sqrt\n",
        "      sqrtvar = np.sqrt(var + eps)\n",
        "      #step6: invert sqrtwar\n",
        "      ivar = 1./sqrtvar\n",
        "      #step7: execute normalization\n",
        "      xhat = xmu * ivar\n",
        "      #step8: Nor the two transformation steps\n",
        "      gammax = gamma * xhat\n",
        "      #step9\n",
        "      out = gammax + beta\n",
        "      #store intermediate\n",
        "      self.cache = (xhat,gamma,xmu,ivar,sqrtvar,var,eps)\n",
        "      return out, cache\n",
        "\n",
        "    def backward(self,dout):\n",
        "      #unfold the variables stored in cache\n",
        "      xhat,gamma,xmu,ivar,sqrtvar,var,eps = self.cache\n",
        "      #get the dimensions of the input/output\n",
        "      N,D = dout.shape\n",
        "      #step9\n",
        "      dbeta = np.sum(dout, axis=0)\n",
        "      dgammax = dout #not necessary, but more understandable\n",
        "      #step8\n",
        "      dgamma = np.sum(dgammax*xhat, axis=0)\n",
        "      dxhat = dgammax * gamma\n",
        "      #step7\n",
        "      divar = np.sum(dxhat*xmu, axis=0)\n",
        "      dxmu1 = dxhat * ivar\n",
        "      #step6\n",
        "      dsqrtvar = -1. /(sqrtvar**2) * divar\n",
        "      #step5\n",
        "      dvar = 0.5 * 1. /np.sqrt(var+eps) * dsqrtvar\n",
        "      #step4\n",
        "      dsq = 1. /N * np.ones((N,D)) * dvar\n",
        "      #step3\n",
        "      dxmu2 = 2 * xmu * dsq\n",
        "      #step2\n",
        "      dx1 = (dxmu1 + dxmu2)\n",
        "      dmu = -1 * np.sum(dxmu1+dxmu2, axis=0)\n",
        "      #step1\n",
        "      dx2 = 1. /N * np.ones((N,D)) * dmu\n",
        "      #step0\n",
        "      dx = dx1 + dx2\n",
        "      return dx, dgamma, dbeta"
      ],
      "execution_count": 0,
      "outputs": []
    },
    {
      "cell_type": "markdown",
      "metadata": {
        "id": "GebK9560Mz2o",
        "colab_type": "text"
      },
      "source": [
        "Activation Layer (ReLU)"
      ]
    },
    {
      "cell_type": "code",
      "metadata": {
        "id": "Dwh0xpL7MoeG",
        "colab_type": "code",
        "colab": {}
      },
      "source": [
        "class ReLU():\n",
        "    def __init__(self):\n",
        "        self.params = []\n",
        "        self.gradInput = None\n",
        "\n",
        "    def forward(self, X):\n",
        "        self.output = np.maximum(X, 0)\n",
        "        return self.output\n",
        "\n",
        "    def backward(self, nextgrad):\n",
        "        self.gradInput = nextgrad.copy()\n",
        "        self.gradInput[self.output <=0] = 0\n",
        "        return self.gradInput, []"
      ],
      "execution_count": 0,
      "outputs": []
    },
    {
      "cell_type": "markdown",
      "metadata": {
        "id": "WBNmAse5NW-V",
        "colab_type": "text"
      },
      "source": [
        "softmax function"
      ]
    },
    {
      "cell_type": "code",
      "metadata": {
        "id": "ZKRaELJfNUZt",
        "colab_type": "code",
        "colab": {}
      },
      "source": [
        "def softmax(x):\n",
        "    exp_x = np.exp(x - np.max(x, axis=1, keepdims=True))\n",
        "    return exp_x / np.sum(exp_x, axis=1, keepdims=True)"
      ],
      "execution_count": 0,
      "outputs": []
    },
    {
      "cell_type": "markdown",
      "metadata": {
        "id": "RKIyTzdfNcvo",
        "colab_type": "text"
      },
      "source": [
        "Cross Entropy Loss"
      ]
    },
    {
      "cell_type": "code",
      "metadata": {
        "id": "9zXPP89zNZw2",
        "colab_type": "code",
        "colab": {}
      },
      "source": [
        "class CrossEntropy:\n",
        "    def forward(self, X, y):\n",
        "        self.m = y.shape[0]\n",
        "        self.p = softmax(X)\n",
        "        cross_entropy = -np.log(self.p[range(self.m), y]+1e-16)\n",
        "        loss = np.sum(cross_entropy) / self.m\n",
        "        return loss\n",
        "    \n",
        "    def backward(self, X, y):\n",
        "        y_idx = y.argmax()        \n",
        "        grad = softmax(X)\n",
        "        grad[range(self.m), y] -= 1\n",
        "        grad /= self.m\n",
        "        return grad"
      ],
      "execution_count": 0,
      "outputs": []
    },
    {
      "cell_type": "markdown",
      "metadata": {
        "id": "hXZXvk0GNpBz",
        "colab_type": "text"
      },
      "source": [
        "Loading the dataset"
      ]
    },
    {
      "cell_type": "code",
      "metadata": {
        "id": "8ukC6bpZOpxb",
        "colab_type": "code",
        "colab": {
          "base_uri": "https://localhost:8080/",
          "height": 34
        },
        "outputId": "000516fe-8130-4242-a583-27f573620037"
      },
      "source": [
        "# mount your drive to use the files on your notebook\n",
        "from google.colab import drive\n",
        "drive.mount('/content/drive')"
      ],
      "execution_count": 19,
      "outputs": [
        {
          "output_type": "stream",
          "text": [
            "Drive already mounted at /content/drive; to attempt to forcibly remount, call drive.mount(\"/content/drive\", force_remount=True).\n"
          ],
          "name": "stdout"
        }
      ]
    },
    {
      "cell_type": "code",
      "metadata": {
        "id": "37CA6wRlNlui",
        "colab_type": "code",
        "colab": {
          "base_uri": "https://localhost:8080/",
          "height": 85
        },
        "outputId": "f488d8cc-10e8-4ef7-8c83-e93bc3bbcb72"
      },
      "source": [
        "import h5py\n",
        "from keras.datasets import mnist\n",
        "from keras.utils import np_utils\n",
        "\n",
        "# Open the file as readonly\n",
        "h5f = h5py.File('/content/drive/My Drive/SVHN_single_grey1.h5', 'r')\n",
        "# Load the training, test and validation set\n",
        "X_train = h5f['X_train'][:]\n",
        "y_train = h5f['y_train'][:]\n",
        "X_test = h5f['X_test'][:]\n",
        "y_test = h5f['y_test'][:]\n",
        "# Close this file\n",
        "h5f.close()\n",
        "\n",
        "# reshaping the data at hand\n",
        "X_train = X_train.reshape(X_train.shape[0], 1024)\n",
        "print (X_train.shape)\n",
        "X_test = X_test.reshape(X_test.shape[0], 1024)\n",
        "print (X_test.shape)\n",
        "\n",
        "# # normalize inputs from 0-255 to 0-1\n",
        "X_train = X_train / 255.0\n",
        "X_test = X_test / 255.0\n",
        "\n",
        "X_val = X_test\n",
        "y_val = y_test\n",
        "\n",
        "print (y_train.shape)\n",
        "print (y_test.shape)\n"
      ],
      "execution_count": 20,
      "outputs": [
        {
          "output_type": "stream",
          "text": [
            "(42000, 1024)\n",
            "(18000, 1024)\n",
            "(42000,)\n",
            "(18000,)\n"
          ],
          "name": "stdout"
        }
      ]
    },
    {
      "cell_type": "code",
      "metadata": {
        "id": "Avu_5sPFOb9S",
        "colab_type": "code",
        "colab": {
          "base_uri": "https://localhost:8080/",
          "height": 95
        },
        "outputId": "aaa737ef-62ca-46a8-e2a8-00432841b96a"
      },
      "source": [
        "# fix random seed for reproducibility\n",
        "seed = 7\n",
        "np.random.seed(seed)\n",
        "# visualizing the first 10 images in the dataset and their labels\n",
        "%matplotlib inline\n",
        "import matplotlib.pyplot as plt\n",
        "plt.figure(figsize=(10, 1))\n",
        "for i in range(10):\n",
        "    plt.subplot(1, 10, i+1)\n",
        "    plt.imshow(X_train[i].reshape(32, 32), cmap=\"gray\")\n",
        "    plt.axis('off')\n",
        "plt.show()\n",
        "print('label for each of the above image: %s' % (y_train[0:10]))"
      ],
      "execution_count": 21,
      "outputs": [
        {
          "output_type": "display_data",
          "data": {
            "image/png": "[encoded data removed]",
            "text/plain": [
              "<Figure size 720x72 with 10 Axes>"
            ]
          },
          "metadata": {
            "tags": []
          }
        },
        {
          "output_type": "stream",
          "text": [
            "label for each of the above image: [2 6 7 4 4 0 3 0 7 3]\n"
          ],
          "name": "stdout"
        }
      ]
    },
    {
      "cell_type": "code",
      "metadata": {
        "id": "76WV_zTuO5J2",
        "colab_type": "code",
        "colab": {}
      },
      "source": [
        "class NN():\n",
        "    def __init__(self, lossfunc=CrossEntropy(), mode='train'):\n",
        "        self.params = []\n",
        "        self.layers = []\n",
        "        self.loss_func = lossfunc\n",
        "        self.grads = []\n",
        "        self.mode = mode\n",
        "        \n",
        "    def add_layer(self, layer):\n",
        "        self.layers.append(layer)\n",
        "        self.params.append(layer.params)\n",
        "\n",
        "    def forward(self, X):\n",
        "        for layer in self.layers:\n",
        "            X = layer.forward(X)\n",
        "        return X\n",
        "    \n",
        "    def backward(self, nextgrad):\n",
        "        self.clear_grad_param()\n",
        "        for layer in reversed(self.layers):\n",
        "            nextgrad, grad = layer.backward(nextgrad)\n",
        "            self.grads.append(grad)\n",
        "        return self.grads\n",
        "    \n",
        "    def train_step(self, X, y):\n",
        "        #out = self.forward(X)\n",
        "        #loss = self.loss_func.forward(out,y)\n",
        "        #nextgrad = self.loss_func.backward(out,y)\n",
        "        #grads = self.backward(nextgrad)\n",
        "        #return loss, grads\n",
        "        out = self.forward(X)\n",
        "        loss = self.loss_func.forward(out,y)  + ((Lambda / (2 * y.shape[0])) * np.sum([np.sum(w**2) for w in self.params[0][0]]))\n",
        "        nextgrad = self.loss_func.backward(out,y) + ((Lambda/y.shape[0]) * np.sum([np.sum(w) for w in self.params[0][0]]))\n",
        "        grads = self.backward(nextgrad)\n",
        "        return loss, grads\n",
        "    \n",
        "    def predict(self, X):\n",
        "        X = self.forward(X)\n",
        "        p = softmax(X)\n",
        "        return np.argmax(p, axis=1)\n",
        "    \n",
        "    def predict_scores(self, X):\n",
        "        X = self.forward(X)\n",
        "        p = softmax(X)\n",
        "        return p\n",
        "    \n",
        "    def clear_grad_param(self):\n",
        "        self.grads = []"
      ],
      "execution_count": 0,
      "outputs": []
    },
    {
      "cell_type": "markdown",
      "metadata": {
        "id": "-kywe446PTSZ",
        "colab_type": "text"
      },
      "source": [
        "update function (SGD with momentum)"
      ]
    },
    {
      "cell_type": "code",
      "metadata": {
        "id": "jQ_qsV0ePPq9",
        "colab_type": "code",
        "colab": {}
      },
      "source": [
        "def update_params(velocity, params, grads, learning_rate=0.01, mu=0.9):\n",
        "    for v, p, g, in zip(velocity, params, reversed(grads)):\n",
        "        for i in range(len(g)):\n",
        "            v[i] = mu * v[i] - learning_rate * g[i]\n",
        "            p[i] += v[i]"
      ],
      "execution_count": 0,
      "outputs": []
    },
    {
      "cell_type": "markdown",
      "metadata": {
        "id": "U5TMEruPPZeo",
        "colab_type": "text"
      },
      "source": [
        "minibatches (both the datapoint and the corresponding label)"
      ]
    },
    {
      "cell_type": "code",
      "metadata": {
        "id": "RWU3KrUoPWjA",
        "colab_type": "code",
        "colab": {}
      },
      "source": [
        "# get minibatches\n",
        "def minibatch(X, y, minibatch_size):\n",
        "    n = X.shape[0]\n",
        "    minibatches = []\n",
        "    permutation = np.random.permutation(X.shape[0])\n",
        "    X = X[permutation]\n",
        "    y = y[permutation]\n",
        "    \n",
        "    for i in range(0, n , minibatch_size):\n",
        "        X_batch = X[i:i + minibatch_size, :]\n",
        "        y_batch = y[i:i + minibatch_size, ]\n",
        "        minibatches.append((X_batch, y_batch))\n",
        "        \n",
        "    return minibatches"
      ],
      "execution_count": 0,
      "outputs": []
    },
    {
      "cell_type": "code",
      "metadata": {
        "id": "VIIV56W3PcKa",
        "colab_type": "code",
        "colab": {}
      },
      "source": [
        "def sgd(net, X_train, y_train, minibatch_size, epoch, learning_rate, mu=0.9, X_val=None, y_val=None, Lambda=0):\n",
        "    val_loss_epoch = []\n",
        "    minibatches = minibatch(X_train, y_train, minibatch_size)\n",
        "    minibatches_val = minibatch(X_val, y_val, minibatch_size)\n",
        "\n",
        "    \n",
        "    for i in range(epoch):\n",
        "        loss_batch = []\n",
        "        val_loss_batch = []\n",
        "        velocity = []\n",
        "        for param_layer in net.params:\n",
        "            p = [np.zeros_like(param) for param in list(param_layer)]\n",
        "            velocity.append(p)\n",
        "            \n",
        "        # iterate over mini batches\n",
        "        for X_mini, y_mini in minibatches:\n",
        "            loss, grads = net.train_step(X_mini, y_mini)\n",
        "            loss_batch.append(loss)\n",
        "            update_params(velocity, net.params, grads, learning_rate=learning_rate, mu=mu)\n",
        "\n",
        "        for X_mini_val, y_mini_val in minibatches_val:\n",
        "            val_loss, _ = net.train_step(X_mini, y_mini)\n",
        "            val_loss_batch.append(val_loss)\n",
        "        \n",
        "        # accuracy of model at end of epoch after all mini batch updates\n",
        "        m_train = X_train.shape[0]\n",
        "        m_val = X_val.shape[0]\n",
        "        y_train_pred = np.array([], dtype=\"int64\")\n",
        "        y_val_pred = np.array([], dtype=\"int64\")\n",
        "        y_train1 = []\n",
        "        y_vall = []\n",
        "        for i in range(0, m_train, minibatch_size):\n",
        "            X_tr = X_train[i:i + minibatch_size, : ]\n",
        "            y_tr = y_train[i:i + minibatch_size,]\n",
        "            y_train1 = np.append(y_train1, y_tr)\n",
        "            y_train_pred = np.append(y_train_pred, net.predict(X_tr))\n",
        "\n",
        "        for i in range(0, m_val, minibatch_size):\n",
        "            X_va = X_val[i:i + minibatch_size, : ]\n",
        "            y_va = y_val[i:i + minibatch_size,]\n",
        "            y_vall = np.append(y_vall, y_va)\n",
        "            y_val_pred = np.append(y_val_pred, net.predict(X_va))\n",
        "            \n",
        "        train_acc = check_accuracy(y_train1, y_train_pred)\n",
        "        val_acc = check_accuracy(y_vall, y_val_pred)\n",
        "\n",
        "        mean_train_loss = sum(loss_batch) / float(len(loss_batch))\n",
        "        mean_val_loss = sum(val_loss_batch) / float(len(val_loss_batch))\n",
        "        \n",
        "        val_loss_epoch.append(mean_val_loss)\n",
        "        print(\"Loss = {0} | Training Accuracy = {1} | Val Loss = {2} | Val Accuracy = {3}\".format(mean_train_loss, train_acc, mean_val_loss, val_acc))\n",
        "    return net, val_acc"
      ],
      "execution_count": 0,
      "outputs": []
    },
    {
      "cell_type": "code",
      "metadata": {
        "id": "bisMIz1fPfj1",
        "colab_type": "code",
        "colab": {}
      },
      "source": [
        "def check_accuracy(y_true, y_pred):\n",
        "    return np.mean(y_pred == y_true)"
      ],
      "execution_count": 0,
      "outputs": []
    },
    {
      "cell_type": "code",
      "metadata": {
        "id": "VX7A_ZXBRvfw",
        "colab_type": "code",
        "colab": {
          "base_uri": "https://localhost:8080/",
          "height": 34
        },
        "outputId": "99c187f1-5678-4c67-e64a-9bb7c1fcf77c"
      },
      "source": [
        "print (X_train.shape[1])"
      ],
      "execution_count": 27,
      "outputs": [
        {
          "output_type": "stream",
          "text": [
            "1024\n"
          ],
          "name": "stdout"
        }
      ]
    },
    {
      "cell_type": "code",
      "metadata": {
        "id": "6klV3ZmSPiWL",
        "colab_type": "code",
        "colab": {}
      },
      "source": [
        "from random import shuffle\n",
        "\n",
        "## input size\n",
        "input_dim = X_train.shape[1]\n",
        "\n",
        "## hyperparameters\n",
        "#iterations = 10\n",
        "#learning_rate = 1e4\n",
        "#learning_rate = 0.1\n",
        "#hidden_nodes = 32\n",
        "#output_nodes = 10\n",
        "\n",
        "## define neural net\n",
        "#nn = NN()\n",
        "#nn.add_layer(Linear(input_dim, hidden_nodes))\n",
        "#nn.add_layer(ReLU())\n",
        "#nn.add_layer(Linear(hidden_nodes, output_nodes))\n",
        "\n",
        "#nn = train(nn, X_train , y_train, minibatch_size=200, epoch=10, \\\n",
        " #          learning_rate=learning_rate, X_val=X_val, y_val=y_val)\n",
        "\n",
        "\n",
        "def train_and_test_loop(iterations, lr, Lambda):\n",
        "    ## hyperparameters\n",
        "    iterations = iterations\n",
        "    learning_rate = lr\n",
        "    hidden_nodes = 32\n",
        "    output_nodes = 10\n",
        "\n",
        "    ## define neural net\n",
        "    nn = NN()\n",
        "    nn.add_layer(Linear(input_dim, hidden_nodes))\n",
        "    nn.add_layer(ReLU())\n",
        "    nn.add_layer(Linear(hidden_nodes, output_nodes))\n",
        "\n",
        "    nn, val_acc = sgd(nn, X_train , y_train, minibatch_size=200, epoch=iterations, learning_rate=learning_rate,\\\n",
        "                      X_val=X_val, y_val=y_val, Lambda=Lambda)\n",
        "    return val_acc"
      ],
      "execution_count": 0,
      "outputs": []
    },
    {
      "cell_type": "code",
      "metadata": {
        "id": "93z9H4BnQt6D",
        "colab_type": "code",
        "colab": {
          "base_uri": "https://localhost:8080/",
          "height": 51
        },
        "outputId": "57ce61e9-7a35-4dcc-e499-c2dc83d5524a"
      },
      "source": [
        "lr = 0.00001\n",
        "Lambda = 0\n",
        "train_and_test_loop(1, lr, Lambda)"
      ],
      "execution_count": 34,
      "outputs": [
        {
          "output_type": "stream",
          "text": [
            "Loss = 2.3026079139590223 | Training Accuracy = 0.09973809523809524 | Val Loss = 2.3027168487501597 | Val Accuracy = 0.10061111111111111\n"
          ],
          "name": "stdout"
        },
        {
          "output_type": "execute_result",
          "data": {
            "text/plain": [
              "0.10061111111111111"
            ]
          },
          "metadata": {
            "tags": []
          },
          "execution_count": 34
        }
      ]
    },
    {
      "cell_type": "code",
      "metadata": {
        "id": "j3Stz-aQaNrl",
        "colab_type": "code",
        "colab": {
          "base_uri": "https://localhost:8080/",
          "height": 51
        },
        "outputId": "af8cdc38-bbd4-4391-9c61-c49589014008"
      },
      "source": [
        "lr = 0.00001\n",
        "Lambda = 1e3\n",
        "train_and_test_loop(1, lr, Lambda)"
      ],
      "execution_count": 35,
      "outputs": [
        {
          "output_type": "stream",
          "text": [
            "Loss = 3.7407743935257066e+23 | Training Accuracy = 0.09966666666666667 | Val Loss = 4.333849703130508e+23 | Val Accuracy = 0.10077777777777777\n"
          ],
          "name": "stdout"
        },
        {
          "output_type": "execute_result",
          "data": {
            "text/plain": [
              "0.10077777777777777"
            ]
          },
          "metadata": {
            "tags": []
          },
          "execution_count": 35
        }
      ]
    },
    {
      "cell_type": "code",
      "metadata": {
        "id": "yieK4JoaamgL",
        "colab_type": "code",
        "colab": {
          "base_uri": "https://localhost:8080/",
          "height": 1000
        },
        "outputId": "c65221e4-8136-4c23-bc14-6b32e2d7ef9d"
      },
      "source": [
        "lr = 1e-7\n",
        "Lambda = 1e-7\n",
        "train_and_test_loop(100, lr, Lambda)"
      ],
      "execution_count": 37,
      "outputs": [
        {
          "output_type": "stream",
          "text": [
            "Loss = 2.3025648708843995 | Training Accuracy = 0.10916666666666666 | Val Loss = 2.3023816158378163 | Val Accuracy = 0.10922222222222222\n",
            "Loss = 2.302564865829785 | Training Accuracy = 0.10916666666666666 | Val Loss = 2.3023816067897083 | Val Accuracy = 0.10927777777777778\n",
            "Loss = 2.302564860774827 | Training Accuracy = 0.10916666666666666 | Val Loss = 2.3023815977280457 | Val Accuracy = 0.10927777777777778\n",
            "Loss = 2.3025648557188916 | Training Accuracy = 0.10916666666666666 | Val Loss = 2.3023815886633945 | Val Accuracy = 0.10927777777777778\n",
            "Loss = 2.3025648506600067 | Training Accuracy = 0.10914285714285714 | Val Loss = 2.30238157962983 | Val Accuracy = 0.10933333333333334\n",
            "Loss = 2.302564845597162 | Training Accuracy = 0.10914285714285714 | Val Loss = 2.302381570596103 | Val Accuracy = 0.10938888888888888\n",
            "Loss = 2.3025648405341497 | Training Accuracy = 0.10916666666666666 | Val Loss = 2.3023815615619934 | Val Accuracy = 0.10938888888888888\n",
            "Loss = 2.3025648354729595 | Training Accuracy = 0.10921428571428571 | Val Loss = 2.3023815525284093 | Val Accuracy = 0.10938888888888888\n",
            "Loss = 2.302564830414001 | Training Accuracy = 0.10921428571428571 | Val Loss = 2.3023815435001045 | Val Accuracy = 0.10938888888888888\n",
            "Loss = 2.302564825356103 | Training Accuracy = 0.10921428571428571 | Val Loss = 2.3023815344942 | Val Accuracy = 0.10938888888888888\n",
            "Loss = 2.3025648203001783 | Training Accuracy = 0.10919047619047619 | Val Loss = 2.3023815255129993 | Val Accuracy = 0.10944444444444444\n",
            "Loss = 2.302564815246982 | Training Accuracy = 0.10916666666666666 | Val Loss = 2.3023815165228627 | Val Accuracy = 0.10938888888888888\n",
            "Loss = 2.30256481019472 | Training Accuracy = 0.10919047619047619 | Val Loss = 2.3023815075377656 | Val Accuracy = 0.10938888888888888\n",
            "Loss = 2.302564805141559 | Training Accuracy = 0.10919047619047619 | Val Loss = 2.302381498550963 | Val Accuracy = 0.10938888888888888\n",
            "Loss = 2.302564800090425 | Training Accuracy = 0.10916666666666666 | Val Loss = 2.30238148956087 | Val Accuracy = 0.10938888888888888\n",
            "Loss = 2.3025647950411763 | Training Accuracy = 0.10919047619047619 | Val Loss = 2.3023814805739766 | Val Accuracy = 0.10938888888888888\n",
            "Loss = 2.3025647899899875 | Training Accuracy = 0.10919047619047619 | Val Loss = 2.3023814715932924 | Val Accuracy = 0.10938888888888888\n",
            "Loss = 2.3025647849354343 | Training Accuracy = 0.10921428571428571 | Val Loss = 2.3023814625818484 | Val Accuracy = 0.10938888888888888\n",
            "Loss = 2.3025647798812994 | Training Accuracy = 0.10921428571428571 | Val Loss = 2.3023814535748603 | Val Accuracy = 0.10944444444444444\n",
            "Loss = 2.3025647748249787 | Training Accuracy = 0.10926190476190477 | Val Loss = 2.3023814445820414 | Val Accuracy = 0.10944444444444444\n",
            "Loss = 2.3025647697666085 | Training Accuracy = 0.10926190476190477 | Val Loss = 2.3023814355906036 | Val Accuracy = 0.10944444444444444\n",
            "Loss = 2.3025647647076335 | Training Accuracy = 0.10926190476190477 | Val Loss = 2.3023814266004474 | Val Accuracy = 0.10944444444444444\n",
            "Loss = 2.302564759649016 | Training Accuracy = 0.10926190476190477 | Val Loss = 2.3023814175985247 | Val Accuracy = 0.10944444444444444\n",
            "Loss = 2.30256475459255 | Training Accuracy = 0.10928571428571429 | Val Loss = 2.302381408621613 | Val Accuracy = 0.10944444444444444\n",
            "Loss = 2.3025647495362644 | Training Accuracy = 0.10926190476190477 | Val Loss = 2.3023813996410047 | Val Accuracy = 0.10933333333333334\n",
            "Loss = 2.3025647444804354 | Training Accuracy = 0.10928571428571429 | Val Loss = 2.302381390656675 | Val Accuracy = 0.10927777777777778\n",
            "Loss = 2.302564739425172 | Training Accuracy = 0.10930952380952381 | Val Loss = 2.3023813816688303 | Val Accuracy = 0.10922222222222222\n",
            "Loss = 2.3025647343706965 | Training Accuracy = 0.10930952380952381 | Val Loss = 2.3023813726932194 | Val Accuracy = 0.10922222222222222\n",
            "Loss = 2.3025647293159084 | Training Accuracy = 0.10933333333333334 | Val Loss = 2.302381363702663 | Val Accuracy = 0.10922222222222222\n",
            "Loss = 2.3025647242642715 | Training Accuracy = 0.10935714285714286 | Val Loss = 2.302381354706254 | Val Accuracy = 0.10922222222222222\n",
            "Loss = 2.3025647192131578 | Training Accuracy = 0.10935714285714286 | Val Loss = 2.302381345717235 | Val Accuracy = 0.10922222222222222\n",
            "Loss = 2.3025647141604035 | Training Accuracy = 0.10940476190476191 | Val Loss = 2.302381336726055 | Val Accuracy = 0.10922222222222222\n",
            "Loss = 2.3025647091064965 | Training Accuracy = 0.10935714285714286 | Val Loss = 2.3023813277335154 | Val Accuracy = 0.10922222222222222\n",
            "Loss = 2.302564704051926 | Training Accuracy = 0.10933333333333334 | Val Loss = 2.3023813187761824 | Val Accuracy = 0.10916666666666666\n",
            "Loss = 2.302564698995262 | Training Accuracy = 0.10933333333333334 | Val Loss = 2.302381309797992 | Val Accuracy = 0.10922222222222222\n",
            "Loss = 2.3025646939390287 | Training Accuracy = 0.10935714285714286 | Val Loss = 2.3023813008180105 | Val Accuracy = 0.10922222222222222\n",
            "Loss = 2.3025646888825353 | Training Accuracy = 0.10935714285714286 | Val Loss = 2.302381291842201 | Val Accuracy = 0.10922222222222222\n",
            "Loss = 2.302564683825071 | Training Accuracy = 0.10933333333333334 | Val Loss = 2.302381282865335 | Val Accuracy = 0.10922222222222222\n",
            "Loss = 2.302564678767251 | Training Accuracy = 0.10933333333333334 | Val Loss = 2.302381273893494 | Val Accuracy = 0.10911111111111112\n",
            "Loss = 2.302564673708971 | Training Accuracy = 0.10933333333333334 | Val Loss = 2.3023812648982784 | Val Accuracy = 0.10911111111111112\n",
            "Loss = 2.3025646686487273 | Training Accuracy = 0.10935714285714286 | Val Loss = 2.302381255905829 | Val Accuracy = 0.10905555555555556\n",
            "Loss = 2.302564663588372 | Training Accuracy = 0.10935714285714286 | Val Loss = 2.302381246911645 | Val Accuracy = 0.10905555555555556\n",
            "Loss = 2.3025646585271105 | Training Accuracy = 0.10935714285714286 | Val Loss = 2.30238123787094 | Val Accuracy = 0.10911111111111112\n",
            "Loss = 2.302564653463377 | Training Accuracy = 0.10935714285714286 | Val Loss = 2.3023812288522634 | Val Accuracy = 0.10911111111111112\n",
            "Loss = 2.3025646483966664 | Training Accuracy = 0.10935714285714286 | Val Loss = 2.302381219844447 | Val Accuracy = 0.10911111111111112\n",
            "Loss = 2.302564643331836 | Training Accuracy = 0.10933333333333334 | Val Loss = 2.3023812108191 | Val Accuracy = 0.10905555555555556\n",
            "Loss = 2.3025646382675986 | Training Accuracy = 0.10938095238095238 | Val Loss = 2.302381201791597 | Val Accuracy = 0.10911111111111112\n",
            "Loss = 2.30256463320204 | Training Accuracy = 0.10940476190476191 | Val Loss = 2.3023811927553552 | Val Accuracy = 0.10911111111111112\n",
            "Loss = 2.302564628135295 | Training Accuracy = 0.10942857142857143 | Val Loss = 2.3023811837237527 | Val Accuracy = 0.10911111111111112\n",
            "Loss = 2.3025646230655985 | Training Accuracy = 0.10940476190476191 | Val Loss = 2.3023811746902543 | Val Accuracy = 0.10911111111111112\n",
            "Loss = 2.302564617995322 | Training Accuracy = 0.10938095238095238 | Val Loss = 2.302381165656842 | Val Accuracy = 0.10916666666666666\n",
            "Loss = 2.3025646129255537 | Training Accuracy = 0.10938095238095238 | Val Loss = 2.302381156631837 | Val Accuracy = 0.10916666666666666\n",
            "Loss = 2.3025646078549613 | Training Accuracy = 0.10938095238095238 | Val Loss = 2.3023811476057854 | Val Accuracy = 0.10922222222222222\n",
            "Loss = 2.302564602784504 | Training Accuracy = 0.10938095238095238 | Val Loss = 2.3023811385707598 | Val Accuracy = 0.10927777777777778\n",
            "Loss = 2.3025645977136278 | Training Accuracy = 0.10938095238095238 | Val Loss = 2.302381129541116 | Val Accuracy = 0.10916666666666666\n",
            "Loss = 2.3025645926431495 | Training Accuracy = 0.10935714285714286 | Val Loss = 2.302381120477664 | Val Accuracy = 0.10916666666666666\n",
            "Loss = 2.3025645875751026 | Training Accuracy = 0.10935714285714286 | Val Loss = 2.302381111404337 | Val Accuracy = 0.10916666666666666\n",
            "Loss = 2.302564582505541 | Training Accuracy = 0.10935714285714286 | Val Loss = 2.3023811023390195 | Val Accuracy = 0.10905555555555556\n",
            "Loss = 2.3025645774331664 | Training Accuracy = 0.10933333333333334 | Val Loss = 2.3023810932628503 | Val Accuracy = 0.10911111111111112\n",
            "Loss = 2.302564572359801 | Training Accuracy = 0.10935714285714286 | Val Loss = 2.3023810841856487 | Val Accuracy = 0.10911111111111112\n",
            "Loss = 2.3025645672869697 | Training Accuracy = 0.10935714285714286 | Val Loss = 2.302381075105096 | Val Accuracy = 0.10911111111111112\n",
            "Loss = 2.302564562212359 | Training Accuracy = 0.10935714285714286 | Val Loss = 2.3023810660251995 | Val Accuracy = 0.10911111111111112\n",
            "Loss = 2.302564557138264 | Training Accuracy = 0.10938095238095238 | Val Loss = 2.3023810569354954 | Val Accuracy = 0.10911111111111112\n",
            "Loss = 2.302564552066752 | Training Accuracy = 0.10938095238095238 | Val Loss = 2.3023810478495 | Val Accuracy = 0.10905555555555556\n",
            "Loss = 2.302564546994486 | Training Accuracy = 0.10938095238095238 | Val Loss = 2.302381038756218 | Val Accuracy = 0.10911111111111112\n",
            "Loss = 2.3025645419237835 | Training Accuracy = 0.10935714285714286 | Val Loss = 2.302381029632071 | Val Accuracy = 0.10905555555555556\n",
            "Loss = 2.3025645368575685 | Training Accuracy = 0.10938095238095238 | Val Loss = 2.3023810205082778 | Val Accuracy = 0.10905555555555556\n",
            "Loss = 2.3025645317905408 | Training Accuracy = 0.10938095238095238 | Val Loss = 2.3023810113836234 | Val Accuracy = 0.10905555555555556\n",
            "Loss = 2.3025645267246375 | Training Accuracy = 0.10935714285714286 | Val Loss = 2.3023810022335534 | Val Accuracy = 0.10905555555555556\n",
            "Loss = 2.302564521661326 | Training Accuracy = 0.10935714285714286 | Val Loss = 2.302380993086225 | Val Accuracy = 0.10911111111111112\n",
            "Loss = 2.3025645165982147 | Training Accuracy = 0.10938095238095238 | Val Loss = 2.3023809839561697 | Val Accuracy = 0.10911111111111112\n",
            "Loss = 2.302564511534751 | Training Accuracy = 0.10938095238095238 | Val Loss = 2.3023809748271185 | Val Accuracy = 0.10905555555555556\n",
            "Loss = 2.302564506471994 | Training Accuracy = 0.10935714285714286 | Val Loss = 2.3023809657215675 | Val Accuracy = 0.109\n",
            "Loss = 2.3025645014104392 | Training Accuracy = 0.10935714285714286 | Val Loss = 2.3023809566166737 | Val Accuracy = 0.109\n",
            "Loss = 2.302564496348714 | Training Accuracy = 0.10938095238095238 | Val Loss = 2.302380947513711 | Val Accuracy = 0.109\n",
            "Loss = 2.3025644912871828 | Training Accuracy = 0.10938095238095238 | Val Loss = 2.3023809384150433 | Val Accuracy = 0.109\n",
            "Loss = 2.3025644862268004 | Training Accuracy = 0.10940476190476191 | Val Loss = 2.3023809293594293 | Val Accuracy = 0.109\n",
            "Loss = 2.3025644811648234 | Training Accuracy = 0.10938095238095238 | Val Loss = 2.3023809202948367 | Val Accuracy = 0.109\n",
            "Loss = 2.302564476102212 | Training Accuracy = 0.10933333333333334 | Val Loss = 2.3023809112339593 | Val Accuracy = 0.109\n",
            "Loss = 2.302564471037614 | Training Accuracy = 0.10933333333333334 | Val Loss = 2.3023809021808863 | Val Accuracy = 0.10894444444444444\n",
            "Loss = 2.302564465974474 | Training Accuracy = 0.10933333333333334 | Val Loss = 2.302380893123796 | Val Accuracy = 0.109\n",
            "Loss = 2.302564460911175 | Training Accuracy = 0.10933333333333334 | Val Loss = 2.3023808840765985 | Val Accuracy = 0.10894444444444444\n",
            "Loss = 2.302564455846679 | Training Accuracy = 0.10935714285714286 | Val Loss = 2.302380875030373 | Val Accuracy = 0.10894444444444444\n",
            "Loss = 2.3025644507822207 | Training Accuracy = 0.10933333333333334 | Val Loss = 2.302380865983032 | Val Accuracy = 0.10888888888888888\n",
            "Loss = 2.3025644457181222 | Training Accuracy = 0.10935714285714286 | Val Loss = 2.302380856931249 | Val Accuracy = 0.10877777777777778\n",
            "Loss = 2.302564440654129 | Training Accuracy = 0.10935714285714286 | Val Loss = 2.30238084788081 | Val Accuracy = 0.10877777777777778\n",
            "Loss = 2.3025644355896757 | Training Accuracy = 0.10935714285714286 | Val Loss = 2.3023808388254277 | Val Accuracy = 0.10883333333333334\n",
            "Loss = 2.3025644305257087 | Training Accuracy = 0.10938095238095238 | Val Loss = 2.3023808297769772 | Val Accuracy = 0.10883333333333334\n",
            "Loss = 2.302564425462824 | Training Accuracy = 0.10938095238095238 | Val Loss = 2.3023808207297254 | Val Accuracy = 0.10883333333333334\n",
            "Loss = 2.302564420396352 | Training Accuracy = 0.10942857142857143 | Val Loss = 2.302380811724057 | Val Accuracy = 0.10883333333333334\n",
            "Loss = 2.3025644153262483 | Training Accuracy = 0.10942857142857143 | Val Loss = 2.30238080270518 | Val Accuracy = 0.10883333333333334\n",
            "Loss = 2.3025644102573586 | Training Accuracy = 0.10940476190476191 | Val Loss = 2.302380793749649 | Val Accuracy = 0.10877777777777778\n",
            "Loss = 2.3025644051902634 | Training Accuracy = 0.10942857142857143 | Val Loss = 2.3023807847993116 | Val Accuracy = 0.10877777777777778\n",
            "Loss = 2.3025644001250036 | Training Accuracy = 0.10942857142857143 | Val Loss = 2.3023807758360055 | Val Accuracy = 0.10872222222222222\n",
            "Loss = 2.3025643950589134 | Training Accuracy = 0.10940476190476191 | Val Loss = 2.3023807668619796 | Val Accuracy = 0.10872222222222222\n",
            "Loss = 2.3025643899933512 | Training Accuracy = 0.10938095238095238 | Val Loss = 2.302380757879632 | Val Accuracy = 0.10872222222222222\n",
            "Loss = 2.302564384928006 | Training Accuracy = 0.10940476190476191 | Val Loss = 2.3023807488942243 | Val Accuracy = 0.10872222222222222\n",
            "Loss = 2.3025643798635476 | Training Accuracy = 0.10945238095238095 | Val Loss = 2.302380739909418 | Val Accuracy = 0.10872222222222222\n",
            "Loss = 2.3025643747994557 | Training Accuracy = 0.10945238095238095 | Val Loss = 2.302380730925788 | Val Accuracy = 0.10872222222222222\n",
            "Loss = 2.3025643697352542 | Training Accuracy = 0.10945238095238095 | Val Loss = 2.302380721947438 | Val Accuracy = 0.10866666666666666\n"
          ],
          "name": "stdout"
        },
        {
          "output_type": "execute_result",
          "data": {
            "text/plain": [
              "0.10866666666666666"
            ]
          },
          "metadata": {
            "tags": []
          },
          "execution_count": 37
        }
      ]
    },
    {
      "cell_type": "code",
      "metadata": {
        "id": "vx5e3L7ca11s",
        "colab_type": "code",
        "colab": {
          "base_uri": "https://localhost:8080/",
          "height": 1000
        },
        "outputId": "feaa9b49-7684-44fa-de57-52fc51af390c"
      },
      "source": [
        "lr = 1e6\n",
        "Lambda = 1e-7\n",
        "train_and_test_loop(100, lr, Lambda)"
      ],
      "execution_count": 38,
      "outputs": [
        {
          "output_type": "stream",
          "text": [
            "Loss = 1.6584360070330646e+89 | Training Accuracy = 0.09966666666666667 | Val Loss = 1.8114316078192855e+89 | Val Accuracy = 0.10077777777777777\n",
            "Loss = 1.811431607819288e+89 | Training Accuracy = 0.09966666666666667 | Val Loss = 1.8114316078192855e+89 | Val Accuracy = 0.10077777777777777\n",
            "Loss = 1.811431607819288e+89 | Training Accuracy = 0.09966666666666667 | Val Loss = 1.8114316078192855e+89 | Val Accuracy = 0.10077777777777777\n",
            "Loss = 1.811431607819288e+89 | Training Accuracy = 0.09966666666666667 | Val Loss = 1.8114316078192855e+89 | Val Accuracy = 0.10077777777777777\n",
            "Loss = 1.811431607819288e+89 | Training Accuracy = 0.09966666666666667 | Val Loss = 1.8114316078192855e+89 | Val Accuracy = 0.10077777777777777\n",
            "Loss = 1.811431607819288e+89 | Training Accuracy = 0.09966666666666667 | Val Loss = 1.8114316078192855e+89 | Val Accuracy = 0.10077777777777777\n",
            "Loss = 1.811431607819288e+89 | Training Accuracy = 0.09966666666666667 | Val Loss = 1.8114316078192855e+89 | Val Accuracy = 0.10077777777777777\n",
            "Loss = 1.811431607819288e+89 | Training Accuracy = 0.09966666666666667 | Val Loss = 1.8114316078192855e+89 | Val Accuracy = 0.10077777777777777\n",
            "Loss = 1.811431607819288e+89 | Training Accuracy = 0.09966666666666667 | Val Loss = 1.8114316078192855e+89 | Val Accuracy = 0.10077777777777777\n",
            "Loss = 1.811431607819288e+89 | Training Accuracy = 0.09966666666666667 | Val Loss = 1.8114316078192855e+89 | Val Accuracy = 0.10077777777777777\n",
            "Loss = 1.811431607819288e+89 | Training Accuracy = 0.09966666666666667 | Val Loss = 1.8114316078192855e+89 | Val Accuracy = 0.10077777777777777\n",
            "Loss = 1.811431607819288e+89 | Training Accuracy = 0.09966666666666667 | Val Loss = 1.8114316078192855e+89 | Val Accuracy = 0.10077777777777777\n",
            "Loss = 1.811431607819288e+89 | Training Accuracy = 0.09966666666666667 | Val Loss = 1.8114316078192855e+89 | Val Accuracy = 0.10077777777777777\n",
            "Loss = 1.811431607819288e+89 | Training Accuracy = 0.09966666666666667 | Val Loss = 1.8114316078192855e+89 | Val Accuracy = 0.10077777777777777\n",
            "Loss = 1.811431607819288e+89 | Training Accuracy = 0.09966666666666667 | Val Loss = 1.8114316078192855e+89 | Val Accuracy = 0.10077777777777777\n",
            "Loss = 1.811431607819288e+89 | Training Accuracy = 0.09966666666666667 | Val Loss = 1.8114316078192855e+89 | Val Accuracy = 0.10077777777777777\n",
            "Loss = 1.811431607819288e+89 | Training Accuracy = 0.09966666666666667 | Val Loss = 1.8114316078192855e+89 | Val Accuracy = 0.10077777777777777\n",
            "Loss = 1.811431607819288e+89 | Training Accuracy = 0.09966666666666667 | Val Loss = 1.8114316078192855e+89 | Val Accuracy = 0.10077777777777777\n",
            "Loss = 1.811431607819288e+89 | Training Accuracy = 0.09966666666666667 | Val Loss = 1.8114316078192855e+89 | Val Accuracy = 0.10077777777777777\n",
            "Loss = 1.811431607819288e+89 | Training Accuracy = 0.09966666666666667 | Val Loss = 1.8114316078192855e+89 | Val Accuracy = 0.10077777777777777\n",
            "Loss = 1.811431607819288e+89 | Training Accuracy = 0.09966666666666667 | Val Loss = 1.8114316078192855e+89 | Val Accuracy = 0.10077777777777777\n",
            "Loss = 1.811431607819288e+89 | Training Accuracy = 0.09966666666666667 | Val Loss = 1.8114316078192855e+89 | Val Accuracy = 0.10077777777777777\n",
            "Loss = 1.811431607819288e+89 | Training Accuracy = 0.09966666666666667 | Val Loss = 1.8114316078192855e+89 | Val Accuracy = 0.10077777777777777\n",
            "Loss = 1.811431607819288e+89 | Training Accuracy = 0.09966666666666667 | Val Loss = 1.8114316078192855e+89 | Val Accuracy = 0.10077777777777777\n",
            "Loss = 1.811431607819288e+89 | Training Accuracy = 0.09966666666666667 | Val Loss = 1.8114316078192855e+89 | Val Accuracy = 0.10077777777777777\n",
            "Loss = 1.811431607819288e+89 | Training Accuracy = 0.09966666666666667 | Val Loss = 1.8114316078192855e+89 | Val Accuracy = 0.10077777777777777\n",
            "Loss = 1.811431607819288e+89 | Training Accuracy = 0.09966666666666667 | Val Loss = 1.8114316078192855e+89 | Val Accuracy = 0.10077777777777777\n",
            "Loss = 1.811431607819288e+89 | Training Accuracy = 0.09966666666666667 | Val Loss = 1.8114316078192855e+89 | Val Accuracy = 0.10077777777777777\n",
            "Loss = 1.811431607819288e+89 | Training Accuracy = 0.09966666666666667 | Val Loss = 1.8114316078192855e+89 | Val Accuracy = 0.10077777777777777\n",
            "Loss = 1.811431607819288e+89 | Training Accuracy = 0.09966666666666667 | Val Loss = 1.8114316078192855e+89 | Val Accuracy = 0.10077777777777777\n",
            "Loss = 1.811431607819288e+89 | Training Accuracy = 0.09966666666666667 | Val Loss = 1.8114316078192855e+89 | Val Accuracy = 0.10077777777777777\n",
            "Loss = 1.811431607819288e+89 | Training Accuracy = 0.09966666666666667 | Val Loss = 1.8114316078192855e+89 | Val Accuracy = 0.10077777777777777\n",
            "Loss = 1.811431607819288e+89 | Training Accuracy = 0.09966666666666667 | Val Loss = 1.8114316078192855e+89 | Val Accuracy = 0.10077777777777777\n",
            "Loss = 1.811431607819288e+89 | Training Accuracy = 0.09966666666666667 | Val Loss = 1.8114316078192855e+89 | Val Accuracy = 0.10077777777777777\n",
            "Loss = 1.811431607819288e+89 | Training Accuracy = 0.09966666666666667 | Val Loss = 1.8114316078192855e+89 | Val Accuracy = 0.10077777777777777\n",
            "Loss = 1.811431607819288e+89 | Training Accuracy = 0.09966666666666667 | Val Loss = 1.8114316078192855e+89 | Val Accuracy = 0.10077777777777777\n",
            "Loss = 1.811431607819288e+89 | Training Accuracy = 0.09966666666666667 | Val Loss = 1.8114316078192855e+89 | Val Accuracy = 0.10077777777777777\n",
            "Loss = 1.811431607819288e+89 | Training Accuracy = 0.09966666666666667 | Val Loss = 1.8114316078192855e+89 | Val Accuracy = 0.10077777777777777\n",
            "Loss = 1.811431607819288e+89 | Training Accuracy = 0.09966666666666667 | Val Loss = 1.8114316078192855e+89 | Val Accuracy = 0.10077777777777777\n",
            "Loss = 1.811431607819288e+89 | Training Accuracy = 0.09966666666666667 | Val Loss = 1.8114316078192855e+89 | Val Accuracy = 0.10077777777777777\n",
            "Loss = 1.811431607819288e+89 | Training Accuracy = 0.09966666666666667 | Val Loss = 1.8114316078192855e+89 | Val Accuracy = 0.10077777777777777\n",
            "Loss = 1.811431607819288e+89 | Training Accuracy = 0.09966666666666667 | Val Loss = 1.8114316078192855e+89 | Val Accuracy = 0.10077777777777777\n",
            "Loss = 1.811431607819288e+89 | Training Accuracy = 0.09966666666666667 | Val Loss = 1.8114316078192855e+89 | Val Accuracy = 0.10077777777777777\n",
            "Loss = 1.811431607819288e+89 | Training Accuracy = 0.09966666666666667 | Val Loss = 1.8114316078192855e+89 | Val Accuracy = 0.10077777777777777\n",
            "Loss = 1.811431607819288e+89 | Training Accuracy = 0.09966666666666667 | Val Loss = 1.8114316078192855e+89 | Val Accuracy = 0.10077777777777777\n",
            "Loss = 1.811431607819288e+89 | Training Accuracy = 0.09966666666666667 | Val Loss = 1.8114316078192855e+89 | Val Accuracy = 0.10077777777777777\n",
            "Loss = 1.811431607819288e+89 | Training Accuracy = 0.09966666666666667 | Val Loss = 1.8114316078192855e+89 | Val Accuracy = 0.10077777777777777\n",
            "Loss = 1.811431607819288e+89 | Training Accuracy = 0.09966666666666667 | Val Loss = 1.8114316078192855e+89 | Val Accuracy = 0.10077777777777777\n",
            "Loss = 1.811431607819288e+89 | Training Accuracy = 0.09966666666666667 | Val Loss = 1.8114316078192855e+89 | Val Accuracy = 0.10077777777777777\n",
            "Loss = 1.811431607819288e+89 | Training Accuracy = 0.09966666666666667 | Val Loss = 1.8114316078192855e+89 | Val Accuracy = 0.10077777777777777\n",
            "Loss = 1.811431607819288e+89 | Training Accuracy = 0.09966666666666667 | Val Loss = 1.8114316078192855e+89 | Val Accuracy = 0.10077777777777777\n",
            "Loss = 1.811431607819288e+89 | Training Accuracy = 0.09966666666666667 | Val Loss = 1.8114316078192855e+89 | Val Accuracy = 0.10077777777777777\n",
            "Loss = 1.811431607819288e+89 | Training Accuracy = 0.09966666666666667 | Val Loss = 1.8114316078192855e+89 | Val Accuracy = 0.10077777777777777\n",
            "Loss = 1.811431607819288e+89 | Training Accuracy = 0.09966666666666667 | Val Loss = 1.8114316078192855e+89 | Val Accuracy = 0.10077777777777777\n",
            "Loss = 1.811431607819288e+89 | Training Accuracy = 0.09966666666666667 | Val Loss = 1.8114316078192855e+89 | Val Accuracy = 0.10077777777777777\n",
            "Loss = 1.811431607819288e+89 | Training Accuracy = 0.09966666666666667 | Val Loss = 1.8114316078192855e+89 | Val Accuracy = 0.10077777777777777\n",
            "Loss = 1.811431607819288e+89 | Training Accuracy = 0.09966666666666667 | Val Loss = 1.8114316078192855e+89 | Val Accuracy = 0.10077777777777777\n",
            "Loss = 1.811431607819288e+89 | Training Accuracy = 0.09966666666666667 | Val Loss = 1.8114316078192855e+89 | Val Accuracy = 0.10077777777777777\n",
            "Loss = 1.811431607819288e+89 | Training Accuracy = 0.09966666666666667 | Val Loss = 1.8114316078192855e+89 | Val Accuracy = 0.10077777777777777\n",
            "Loss = 1.811431607819288e+89 | Training Accuracy = 0.09966666666666667 | Val Loss = 1.8114316078192855e+89 | Val Accuracy = 0.10077777777777777\n",
            "Loss = 1.811431607819288e+89 | Training Accuracy = 0.09966666666666667 | Val Loss = 1.8114316078192855e+89 | Val Accuracy = 0.10077777777777777\n",
            "Loss = 1.811431607819288e+89 | Training Accuracy = 0.09966666666666667 | Val Loss = 1.8114316078192855e+89 | Val Accuracy = 0.10077777777777777\n",
            "Loss = 1.811431607819288e+89 | Training Accuracy = 0.09966666666666667 | Val Loss = 1.8114316078192855e+89 | Val Accuracy = 0.10077777777777777\n",
            "Loss = 1.811431607819288e+89 | Training Accuracy = 0.09966666666666667 | Val Loss = 1.8114316078192855e+89 | Val Accuracy = 0.10077777777777777\n",
            "Loss = 1.811431607819288e+89 | Training Accuracy = 0.09966666666666667 | Val Loss = 1.8114316078192855e+89 | Val Accuracy = 0.10077777777777777\n",
            "Loss = 1.811431607819288e+89 | Training Accuracy = 0.09966666666666667 | Val Loss = 1.8114316078192855e+89 | Val Accuracy = 0.10077777777777777\n",
            "Loss = 1.811431607819288e+89 | Training Accuracy = 0.09966666666666667 | Val Loss = 1.8114316078192855e+89 | Val Accuracy = 0.10077777777777777\n",
            "Loss = 1.811431607819288e+89 | Training Accuracy = 0.09966666666666667 | Val Loss = 1.8114316078192855e+89 | Val Accuracy = 0.10077777777777777\n",
            "Loss = 1.811431607819288e+89 | Training Accuracy = 0.09966666666666667 | Val Loss = 1.8114316078192855e+89 | Val Accuracy = 0.10077777777777777\n",
            "Loss = 1.811431607819288e+89 | Training Accuracy = 0.09966666666666667 | Val Loss = 1.8114316078192855e+89 | Val Accuracy = 0.10077777777777777\n",
            "Loss = 1.811431607819288e+89 | Training Accuracy = 0.09966666666666667 | Val Loss = 1.8114316078192855e+89 | Val Accuracy = 0.10077777777777777\n",
            "Loss = 1.811431607819288e+89 | Training Accuracy = 0.09966666666666667 | Val Loss = 1.8114316078192855e+89 | Val Accuracy = 0.10077777777777777\n",
            "Loss = 1.811431607819288e+89 | Training Accuracy = 0.09966666666666667 | Val Loss = 1.8114316078192855e+89 | Val Accuracy = 0.10077777777777777\n",
            "Loss = 1.811431607819288e+89 | Training Accuracy = 0.09966666666666667 | Val Loss = 1.8114316078192855e+89 | Val Accuracy = 0.10077777777777777\n",
            "Loss = 1.811431607819288e+89 | Training Accuracy = 0.09966666666666667 | Val Loss = 1.8114316078192855e+89 | Val Accuracy = 0.10077777777777777\n",
            "Loss = 1.811431607819288e+89 | Training Accuracy = 0.09966666666666667 | Val Loss = 1.8114316078192855e+89 | Val Accuracy = 0.10077777777777777\n",
            "Loss = 1.811431607819288e+89 | Training Accuracy = 0.09966666666666667 | Val Loss = 1.8114316078192855e+89 | Val Accuracy = 0.10077777777777777\n",
            "Loss = 1.811431607819288e+89 | Training Accuracy = 0.09966666666666667 | Val Loss = 1.8114316078192855e+89 | Val Accuracy = 0.10077777777777777\n",
            "Loss = 1.811431607819288e+89 | Training Accuracy = 0.09966666666666667 | Val Loss = 1.8114316078192855e+89 | Val Accuracy = 0.10077777777777777\n",
            "Loss = 1.811431607819288e+89 | Training Accuracy = 0.09966666666666667 | Val Loss = 1.8114316078192855e+89 | Val Accuracy = 0.10077777777777777\n",
            "Loss = 1.811431607819288e+89 | Training Accuracy = 0.09966666666666667 | Val Loss = 1.8114316078192855e+89 | Val Accuracy = 0.10077777777777777\n",
            "Loss = 1.811431607819288e+89 | Training Accuracy = 0.09966666666666667 | Val Loss = 1.8114316078192855e+89 | Val Accuracy = 0.10077777777777777\n",
            "Loss = 1.811431607819288e+89 | Training Accuracy = 0.09966666666666667 | Val Loss = 1.8114316078192855e+89 | Val Accuracy = 0.10077777777777777\n",
            "Loss = 1.811431607819288e+89 | Training Accuracy = 0.09966666666666667 | Val Loss = 1.8114316078192855e+89 | Val Accuracy = 0.10077777777777777\n",
            "Loss = 1.811431607819288e+89 | Training Accuracy = 0.09966666666666667 | Val Loss = 1.8114316078192855e+89 | Val Accuracy = 0.10077777777777777\n",
            "Loss = 1.811431607819288e+89 | Training Accuracy = 0.09966666666666667 | Val Loss = 1.8114316078192855e+89 | Val Accuracy = 0.10077777777777777\n",
            "Loss = 1.811431607819288e+89 | Training Accuracy = 0.09966666666666667 | Val Loss = 1.8114316078192855e+89 | Val Accuracy = 0.10077777777777777\n",
            "Loss = 1.811431607819288e+89 | Training Accuracy = 0.09966666666666667 | Val Loss = 1.8114316078192855e+89 | Val Accuracy = 0.10077777777777777\n",
            "Loss = 1.811431607819288e+89 | Training Accuracy = 0.09966666666666667 | Val Loss = 1.8114316078192855e+89 | Val Accuracy = 0.10077777777777777\n",
            "Loss = 1.811431607819288e+89 | Training Accuracy = 0.09966666666666667 | Val Loss = 1.8114316078192855e+89 | Val Accuracy = 0.10077777777777777\n",
            "Loss = 1.811431607819288e+89 | Training Accuracy = 0.09966666666666667 | Val Loss = 1.8114316078192855e+89 | Val Accuracy = 0.10077777777777777\n",
            "Loss = 1.811431607819288e+89 | Training Accuracy = 0.09966666666666667 | Val Loss = 1.8114316078192855e+89 | Val Accuracy = 0.10077777777777777\n",
            "Loss = 1.811431607819288e+89 | Training Accuracy = 0.09966666666666667 | Val Loss = 1.8114316078192855e+89 | Val Accuracy = 0.10077777777777777\n",
            "Loss = 1.811431607819288e+89 | Training Accuracy = 0.09966666666666667 | Val Loss = 1.8114316078192855e+89 | Val Accuracy = 0.10077777777777777\n",
            "Loss = 1.811431607819288e+89 | Training Accuracy = 0.09966666666666667 | Val Loss = 1.8114316078192855e+89 | Val Accuracy = 0.10077777777777777\n",
            "Loss = 1.811431607819288e+89 | Training Accuracy = 0.09966666666666667 | Val Loss = 1.8114316078192855e+89 | Val Accuracy = 0.10077777777777777\n",
            "Loss = 1.811431607819288e+89 | Training Accuracy = 0.09966666666666667 | Val Loss = 1.8114316078192855e+89 | Val Accuracy = 0.10077777777777777\n",
            "Loss = 1.811431607819288e+89 | Training Accuracy = 0.09966666666666667 | Val Loss = 1.8114316078192855e+89 | Val Accuracy = 0.10077777777777777\n",
            "Loss = 1.811431607819288e+89 | Training Accuracy = 0.09966666666666667 | Val Loss = 1.8114316078192855e+89 | Val Accuracy = 0.10077777777777777\n",
            "Loss = 1.811431607819288e+89 | Training Accuracy = 0.09966666666666667 | Val Loss = 1.8114316078192855e+89 | Val Accuracy = 0.10077777777777777\n"
          ],
          "name": "stdout"
        },
        {
          "output_type": "execute_result",
          "data": {
            "text/plain": [
              "0.10077777777777777"
            ]
          },
          "metadata": {
            "tags": []
          },
          "execution_count": 38
        }
      ]
    },
    {
      "cell_type": "code",
      "metadata": {
        "id": "9c4PBcWq5otv",
        "colab_type": "code",
        "colab": {
          "base_uri": "https://localhost:8080/",
          "height": 884
        },
        "outputId": "a9de7ae8-5cf4-4e1c-a203-abbe4ce95e56"
      },
      "source": [
        "lr = 1e4\n",
        "Lambda = 1e-7\n",
        "train_and_test_loop(50, lr, Lambda)"
      ],
      "execution_count": 39,
      "outputs": [
        {
          "output_type": "stream",
          "text": [
            "Loss = 1.5107616570515062e+70 | Training Accuracy = 0.09966666666666667 | Val Loss = 1.8633505310350777e+70 | Val Accuracy = 0.10077777777777777\n",
            "Loss = 1.8633505310350716e+70 | Training Accuracy = 0.09966666666666667 | Val Loss = 1.8633505310350777e+70 | Val Accuracy = 0.10077777777777777\n",
            "Loss = 1.8633505310350716e+70 | Training Accuracy = 0.09966666666666667 | Val Loss = 1.8633505310350777e+70 | Val Accuracy = 0.10077777777777777\n",
            "Loss = 1.8633505310350716e+70 | Training Accuracy = 0.09966666666666667 | Val Loss = 1.8633505310350777e+70 | Val Accuracy = 0.10077777777777777\n",
            "Loss = 1.8633505310350716e+70 | Training Accuracy = 0.09966666666666667 | Val Loss = 1.8633505310350777e+70 | Val Accuracy = 0.10077777777777777\n",
            "Loss = 1.8633505310350716e+70 | Training Accuracy = 0.09966666666666667 | Val Loss = 1.8633505310350777e+70 | Val Accuracy = 0.10077777777777777\n",
            "Loss = 1.8633505310350716e+70 | Training Accuracy = 0.09966666666666667 | Val Loss = 1.8633505310350777e+70 | Val Accuracy = 0.10077777777777777\n",
            "Loss = 1.8633505310350716e+70 | Training Accuracy = 0.09966666666666667 | Val Loss = 1.8633505310350777e+70 | Val Accuracy = 0.10077777777777777\n",
            "Loss = 1.8633505310350716e+70 | Training Accuracy = 0.09966666666666667 | Val Loss = 1.8633505310350777e+70 | Val Accuracy = 0.10077777777777777\n",
            "Loss = 1.8633505310350716e+70 | Training Accuracy = 0.09966666666666667 | Val Loss = 1.8633505310350777e+70 | Val Accuracy = 0.10077777777777777\n",
            "Loss = 1.8633505310350716e+70 | Training Accuracy = 0.09966666666666667 | Val Loss = 1.8633505310350777e+70 | Val Accuracy = 0.10077777777777777\n",
            "Loss = 1.8633505310350716e+70 | Training Accuracy = 0.09966666666666667 | Val Loss = 1.8633505310350777e+70 | Val Accuracy = 0.10077777777777777\n",
            "Loss = 1.8633505310350716e+70 | Training Accuracy = 0.09966666666666667 | Val Loss = 1.8633505310350777e+70 | Val Accuracy = 0.10077777777777777\n",
            "Loss = 1.8633505310350716e+70 | Training Accuracy = 0.09966666666666667 | Val Loss = 1.8633505310350777e+70 | Val Accuracy = 0.10077777777777777\n",
            "Loss = 1.8633505310350716e+70 | Training Accuracy = 0.09966666666666667 | Val Loss = 1.8633505310350777e+70 | Val Accuracy = 0.10077777777777777\n",
            "Loss = 1.8633505310350716e+70 | Training Accuracy = 0.09966666666666667 | Val Loss = 1.8633505310350777e+70 | Val Accuracy = 0.10077777777777777\n",
            "Loss = 1.8633505310350716e+70 | Training Accuracy = 0.09966666666666667 | Val Loss = 1.8633505310350777e+70 | Val Accuracy = 0.10077777777777777\n",
            "Loss = 1.8633505310350716e+70 | Training Accuracy = 0.09966666666666667 | Val Loss = 1.8633505310350777e+70 | Val Accuracy = 0.10077777777777777\n",
            "Loss = 1.8633505310350716e+70 | Training Accuracy = 0.09966666666666667 | Val Loss = 1.8633505310350777e+70 | Val Accuracy = 0.10077777777777777\n",
            "Loss = 1.8633505310350716e+70 | Training Accuracy = 0.09966666666666667 | Val Loss = 1.8633505310350777e+70 | Val Accuracy = 0.10077777777777777\n",
            "Loss = 1.8633505310350716e+70 | Training Accuracy = 0.09966666666666667 | Val Loss = 1.8633505310350777e+70 | Val Accuracy = 0.10077777777777777\n",
            "Loss = 1.8633505310350716e+70 | Training Accuracy = 0.09966666666666667 | Val Loss = 1.8633505310350777e+70 | Val Accuracy = 0.10077777777777777\n",
            "Loss = 1.8633505310350716e+70 | Training Accuracy = 0.09966666666666667 | Val Loss = 1.8633505310350777e+70 | Val Accuracy = 0.10077777777777777\n",
            "Loss = 1.8633505310350716e+70 | Training Accuracy = 0.09966666666666667 | Val Loss = 1.8633505310350777e+70 | Val Accuracy = 0.10077777777777777\n",
            "Loss = 1.8633505310350716e+70 | Training Accuracy = 0.09966666666666667 | Val Loss = 1.8633505310350777e+70 | Val Accuracy = 0.10077777777777777\n",
            "Loss = 1.8633505310350716e+70 | Training Accuracy = 0.09966666666666667 | Val Loss = 1.8633505310350777e+70 | Val Accuracy = 0.10077777777777777\n",
            "Loss = 1.8633505310350716e+70 | Training Accuracy = 0.09966666666666667 | Val Loss = 1.8633505310350777e+70 | Val Accuracy = 0.10077777777777777\n",
            "Loss = 1.8633505310350716e+70 | Training Accuracy = 0.09966666666666667 | Val Loss = 1.8633505310350777e+70 | Val Accuracy = 0.10077777777777777\n",
            "Loss = 1.8633505310350716e+70 | Training Accuracy = 0.09966666666666667 | Val Loss = 1.8633505310350777e+70 | Val Accuracy = 0.10077777777777777\n",
            "Loss = 1.8633505310350716e+70 | Training Accuracy = 0.09966666666666667 | Val Loss = 1.8633505310350777e+70 | Val Accuracy = 0.10077777777777777\n",
            "Loss = 1.8633505310350716e+70 | Training Accuracy = 0.09966666666666667 | Val Loss = 1.8633505310350777e+70 | Val Accuracy = 0.10077777777777777\n",
            "Loss = 1.8633505310350716e+70 | Training Accuracy = 0.09966666666666667 | Val Loss = 1.8633505310350777e+70 | Val Accuracy = 0.10077777777777777\n",
            "Loss = 1.8633505310350716e+70 | Training Accuracy = 0.09966666666666667 | Val Loss = 1.8633505310350777e+70 | Val Accuracy = 0.10077777777777777\n",
            "Loss = 1.8633505310350716e+70 | Training Accuracy = 0.09966666666666667 | Val Loss = 1.8633505310350777e+70 | Val Accuracy = 0.10077777777777777\n",
            "Loss = 1.8633505310350716e+70 | Training Accuracy = 0.09966666666666667 | Val Loss = 1.8633505310350777e+70 | Val Accuracy = 0.10077777777777777\n",
            "Loss = 1.8633505310350716e+70 | Training Accuracy = 0.09966666666666667 | Val Loss = 1.8633505310350777e+70 | Val Accuracy = 0.10077777777777777\n",
            "Loss = 1.8633505310350716e+70 | Training Accuracy = 0.09966666666666667 | Val Loss = 1.8633505310350777e+70 | Val Accuracy = 0.10077777777777777\n",
            "Loss = 1.8633505310350716e+70 | Training Accuracy = 0.09966666666666667 | Val Loss = 1.8633505310350777e+70 | Val Accuracy = 0.10077777777777777\n",
            "Loss = 1.8633505310350716e+70 | Training Accuracy = 0.09966666666666667 | Val Loss = 1.8633505310350777e+70 | Val Accuracy = 0.10077777777777777\n",
            "Loss = 1.8633505310350716e+70 | Training Accuracy = 0.09966666666666667 | Val Loss = 1.8633505310350777e+70 | Val Accuracy = 0.10077777777777777\n",
            "Loss = 1.8633505310350716e+70 | Training Accuracy = 0.09966666666666667 | Val Loss = 1.8633505310350777e+70 | Val Accuracy = 0.10077777777777777\n",
            "Loss = 1.8633505310350716e+70 | Training Accuracy = 0.09966666666666667 | Val Loss = 1.8633505310350777e+70 | Val Accuracy = 0.10077777777777777\n",
            "Loss = 1.8633505310350716e+70 | Training Accuracy = 0.09966666666666667 | Val Loss = 1.8633505310350777e+70 | Val Accuracy = 0.10077777777777777\n",
            "Loss = 1.8633505310350716e+70 | Training Accuracy = 0.09966666666666667 | Val Loss = 1.8633505310350777e+70 | Val Accuracy = 0.10077777777777777\n",
            "Loss = 1.8633505310350716e+70 | Training Accuracy = 0.09966666666666667 | Val Loss = 1.8633505310350777e+70 | Val Accuracy = 0.10077777777777777\n",
            "Loss = 1.8633505310350716e+70 | Training Accuracy = 0.09966666666666667 | Val Loss = 1.8633505310350777e+70 | Val Accuracy = 0.10077777777777777\n",
            "Loss = 1.8633505310350716e+70 | Training Accuracy = 0.09966666666666667 | Val Loss = 1.8633505310350777e+70 | Val Accuracy = 0.10077777777777777\n",
            "Loss = 1.8633505310350716e+70 | Training Accuracy = 0.09966666666666667 | Val Loss = 1.8633505310350777e+70 | Val Accuracy = 0.10077777777777777\n",
            "Loss = 1.8633505310350716e+70 | Training Accuracy = 0.09966666666666667 | Val Loss = 1.8633505310350777e+70 | Val Accuracy = 0.10077777777777777\n",
            "Loss = 1.8633505310350716e+70 | Training Accuracy = 0.09966666666666667 | Val Loss = 1.8633505310350777e+70 | Val Accuracy = 0.10077777777777777\n"
          ],
          "name": "stdout"
        },
        {
          "output_type": "execute_result",
          "data": {
            "text/plain": [
              "0.10077777777777777"
            ]
          },
          "metadata": {
            "tags": []
          },
          "execution_count": 39
        }
      ]
    },
    {
      "cell_type": "code",
      "metadata": {
        "id": "0AZatqbXCZ9O",
        "colab_type": "code",
        "colab": {}
      },
      "source": [
        ""
      ],
      "execution_count": 0,
      "outputs": []
    }
  ]
}