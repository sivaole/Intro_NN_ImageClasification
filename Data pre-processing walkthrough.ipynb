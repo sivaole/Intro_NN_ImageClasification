{
 "cells": [
  {
   "cell_type": "markdown",
   "metadata": {},
   "source": [
    "## Data Pre Processing Walk-through"
   ]
  },
  {
   "cell_type": "code",
   "execution_count": null,
   "metadata": {},
   "outputs": [],
   "source": [
    "# mount your drive to use the files on your notebook\n",
    "from google.colab import drive\n",
    "drive.mount('/content/drive')\n",
    "\n",
    "# importing the required packages and loading the .h5 type data file using the h5py package  \n",
    "import h5py\n",
    "import numpy as np\n",
    "import numpy as np\n",
    "from keras.datasets import mnist\n",
    "from keras.models import Sequential\n",
    "from keras.layers import Dense\n",
    "from keras.utils import np_utils\n"
   ]
  },
  {
   "cell_type": "code",
   "execution_count": null,
   "metadata": {},
   "outputs": [],
   "source": [
    "# Open the file as readonly\n",
    "h5f = h5py.File('/content/drive/My Drive/SVHN_single_grey1.h5', 'r')\n",
    "# Load the training, test and validation set\n",
    "X_train = h5f['X_train'][:]\n",
    "y_train1 = h5f['y_train'][:]\n",
    "X_test = h5f['X_test'][:]\n",
    "y_test1 = h5f['y_test'][:]\n",
    "# Close this file\n",
    "h5f.close()"
   ]
  },
  {
   "cell_type": "code",
   "execution_count": null,
   "metadata": {},
   "outputs": [],
   "source": [
    "# fix random seed for reproducibility\n",
    "seed = 7\n",
    "np.random.seed(seed)\n",
    "# visualizing the first 10 images in the dataset and their labels\n",
    "%matplotlib inline\n",
    "import matplotlib.pyplot as plt\n",
    "plt.figure(figsize=(10, 1))\n",
    "for i in range(10):\n",
    "    plt.subplot(1, 10, i+1)\n",
    "    plt.imshow(X_train[i], cmap=\"gray\")\n",
    "    plt.axis('off')\n",
    "plt.show()\n",
    "print('label for each of the above image: %s' % (y_train1[0:10]))\n",
    "# reshaping the data at hand\n",
    "X_train = X_train.reshape(X_train.shape[0], 1024)\n",
    "X_test = X_test.reshape(X_test.shape[0], 1024)\n",
    "\n",
    "# normalize inputs from 0-255 to 0-1; to be used with the NN\n",
    "X_train = X_train / 255.0\n",
    "X_test = X_test / 255.0\n",
    "\n",
    "y_train = np_utils.to_categorical(y_train1)\n",
    "y_test = np_utils.to_categorical(y_test1)\n",
    "\n",
    "# no.of classes\n",
    "num_classes = y_test.shape[1]\n",
    "num_hidden = 32\n",
    "\n",
    "x_tr = []\n",
    "for i in range(42000):\n",
    "    x_tr.append(X_train[i,:].flatten())\n",
    "x_te = []\n",
    "for i in range(18000):\n",
    "    x_te.append(X_test[i,:].flatten())\n",
    "\n",
    "# 2000 samples to be used in knn modelling    \n",
    "x_tr =x_tr[:2000]\n",
    "x_te =x_te[:2000]\n",
    "y_tr = y_train1[0:2000]\n",
    "y_te = y_test1[0:2000]"
   ]
  }
 ],
 "metadata": {
  "kernelspec": {
   "display_name": "Python 3",
   "language": "python",
   "name": "python3"
  },
  "language_info": {
   "codemirror_mode": {
    "name": "ipython",
    "version": 3
   },
   "file_extension": ".py",
   "mimetype": "text/x-python",
   "name": "python",
   "nbconvert_exporter": "python",
   "pygments_lexer": "ipython3",
   "version": "3.7.4"
  }
 },
 "nbformat": 4,
 "nbformat_minor": 2
}
