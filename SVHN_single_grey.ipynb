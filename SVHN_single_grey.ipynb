{
 "cells": [
  {
   "cell_type": "code",
   "execution_count": 0,
   "metadata": {
    "colab": {},
    "colab_type": "code",
    "id": "u8TGHbjcC2io"
   },
   "outputs": [],
   "source": [
    "## Import Packages\n",
    "import tensorflow\n",
    "import warnings\n",
    "warnings.filterwarnings('ignore')\n",
    "import h5py\n",
    "from keras.datasets import mnist\n",
    "from keras import optimizers\n",
    "from keras.utils import np_utils\n",
    "from keras.layers.normalization import BatchNormalization\n",
    "from keras.layers import Conv2D, MaxPooling2D, Flatten\n",
    "from keras.models import Sequential\n",
    "from keras.layers import Dense, Dropout, Activation\n",
    "from keras.models import load_model\n",
    "from sklearn.metrics import accuracy_score,classification_report,confusion_matrix\n",
    "from sklearn.neighbors import KNeighborsClassifier\n",
    "from sklearn.preprocessing import StandardScaler\n",
    "from sklearn.decomposition import PCA\n",
    "from sklearn.model_selection import GridSearchCV\n",
    "\n",
    "import keras\n",
    "import tempfile\n",
    "import seaborn as sns\n",
    "import scipy\n",
    "from scipy.io import loadmat\n",
    "import os\n",
    "import numpy as np\n",
    "import pandas as pd\n",
    "## View sample data\n",
    "import matplotlib.pyplot as plt\n",
    "import matplotlib.image as mpimg\n",
    "from scipy.ndimage.filters import correlate, convolve\n",
    "from ipywidgets import interact, interactive, fixed\n",
    "from ipywidgets.widgets import *\n",
    "%matplotlib inline\n",
    "\n",
    "import tensorflow.compat.v1 as tf\n",
    "tf.disable_v2_behavior()\n",
    "tf.reset_default_graph()"
   ]
  },
  {
   "cell_type": "code",
   "execution_count": 3,
   "metadata": {
    "colab": {
     "base_uri": "https://localhost:8080/",
     "height": 122
    },
    "colab_type": "code",
    "id": "xLoCm8_REHMr",
    "outputId": "e75d9c6a-4cc5-4cf2-e07e-be7e25f46ec8"
   },
   "outputs": [
    {
     "name": "stdout",
     "output_type": "stream",
     "text": [
      "Go to this URL in a browser: https://accounts.google.com/o/oauth2/auth?client_id=947318989803-6bn6qk8qdgf4n4g3pfee6491hc0brc4i.apps.googleusercontent.com&redirect_uri=urn%3aietf%3awg%3aoauth%3a2.0%3aoob&response_type=code&scope=email%20https%3a%2f%2fwww.googleapis.com%2fauth%2fdocs.test%20https%3a%2f%2fwww.googleapis.com%2fauth%2fdrive%20https%3a%2f%2fwww.googleapis.com%2fauth%2fdrive.photos.readonly%20https%3a%2f%2fwww.googleapis.com%2fauth%2fpeopleapi.readonly\n",
      "\n",
      "Enter your authorization code:\n",
      "··········\n",
      "Mounted at /content/drive\n"
     ]
    }
   ],
   "source": [
    "# mount your drive to use the files on your notebook\n",
    "from google.colab import drive\n",
    "drive.mount('/content/drive')"
   ]
  },
  {
   "cell_type": "code",
   "execution_count": 0,
   "metadata": {
    "colab": {},
    "colab_type": "code",
    "id": "OjvaG8qHER8q"
   },
   "outputs": [],
   "source": [
    "# Open the file as readonly\n",
    "h5f = h5py.File('/content/drive/My Drive/SVHN_single_grey1.h5', 'r')\n",
    "# Load the training, test and validation set\n",
    "X_train = h5f['X_train'][:]\n",
    "y_train = h5f['y_train'][:]\n",
    "X_test = h5f['X_test'][:]\n",
    "y_test = h5f['y_test'][:]\n",
    "# Close this file\n",
    "h5f.close()"
   ]
  },
  {
   "cell_type": "code",
   "execution_count": 5,
   "metadata": {
    "colab": {
     "base_uri": "https://localhost:8080/",
     "height": 95
    },
    "colab_type": "code",
    "id": "32bbsde4EZGL",
    "outputId": "4cf78515-a55f-479c-bbb2-c19216b5ed7f"
   },
   "outputs": [
    {
     "data": {
      "image/png": "[encoded data removed]",
      "text/plain": [
       "<Figure size 720x72 with 10 Axes>"
      ]
     },
     "metadata": {
      "tags": []
     },
     "output_type": "display_data"
    },
    {
     "name": "stdout",
     "output_type": "stream",
     "text": [
      "label for each of the above image: [2 6 7 4 4 0 3 0 7 3]\n"
     ]
    }
   ],
   "source": [
    "# fix random seed for reproducibility\n",
    "seed = 7\n",
    "np.random.seed(seed)\n",
    "# visualizing the first 10 images in the dataset and their labels\n",
    "%matplotlib inline\n",
    "import matplotlib.pyplot as plt\n",
    "plt.figure(figsize=(10, 1))\n",
    "for i in range(10):\n",
    "    plt.subplot(1, 10, i+1)\n",
    "    plt.imshow(X_train[i], cmap=\"gray\")\n",
    "    plt.axis('off')\n",
    "plt.show()\n",
    "print('label for each of the above image: %s' % (y_train[0:10]))"
   ]
  },
  {
   "cell_type": "code",
   "execution_count": 0,
   "metadata": {
    "colab": {},
    "colab_type": "code",
    "id": "nM2sMUo3EhW8"
   },
   "outputs": [],
   "source": [
    "# reshaping the data at hand\n",
    "X_train = X_train.reshape(X_train.shape[0], 1024)\n",
    "X_test = X_test.reshape(X_test.shape[0], 1024)"
   ]
  },
  {
   "cell_type": "code",
   "execution_count": 0,
   "metadata": {
    "colab": {},
    "colab_type": "code",
    "id": "CuIUz6KsErj0"
   },
   "outputs": [],
   "source": [
    "# normalize inputs from 0-255 to 0-1; to be used with the NN\n",
    "X_train1 = X_train / 255.0\n",
    "X_test1 = X_test / 255.0"
   ]
  },
  {
   "cell_type": "code",
   "execution_count": 0,
   "metadata": {
    "colab": {},
    "colab_type": "code",
    "id": "nWhW3z3wEvjo"
   },
   "outputs": [],
   "source": [
    "y_train1 = np_utils.to_categorical(y_train)\n",
    "y_test1 = np_utils.to_categorical(y_test)"
   ]
  },
  {
   "cell_type": "code",
   "execution_count": 0,
   "metadata": {
    "colab": {},
    "colab_type": "code",
    "id": "kywpKXvPEytT"
   },
   "outputs": [],
   "source": [
    "x_tr = []\n",
    "for i in range(42000):\n",
    "    x_tr.append(X_train1[i,:].flatten())\n",
    "x_te = []\n",
    "for i in range(18000):\n",
    "    x_te.append(X_test1[i,:].flatten())\n",
    "\n",
    "# 2000 samples to be used in knn modelling    \n",
    "x_tr =x_tr[:2000]\n",
    "x_te =x_te[:2000]\n",
    "y_tr = y_train[0:2000]\n",
    "y_te = y_test[0:2000]"
   ]
  },
  {
   "cell_type": "code",
   "execution_count": 0,
   "metadata": {
    "colab": {},
    "colab_type": "code",
    "id": "33q4L7oeE2xi"
   },
   "outputs": [],
   "source": [
    "model = KNeighborsClassifier(n_neighbors=10)\n",
    "model.fit(x_tr,y_tr)\n",
    "predictions = model.predict(x_te)\n",
    "score = model.score(x_te, y_te)"
   ]
  },
  {
   "cell_type": "code",
   "execution_count": 11,
   "metadata": {
    "colab": {
     "base_uri": "https://localhost:8080/",
     "height": 34
    },
    "colab_type": "code",
    "id": "aTkho6OwE7kU",
    "outputId": "107442c9-0e8e-4e2b-931c-7f9027e66d54"
   },
   "outputs": [
    {
     "name": "stdout",
     "output_type": "stream",
     "text": [
      "accuracy=0.31%\n"
     ]
    }
   ],
   "source": [
    "print(\"accuracy=%.2f%%\" % (score))"
   ]
  },
  {
   "cell_type": "code",
   "execution_count": 13,
   "metadata": {
    "colab": {
     "base_uri": "https://localhost:8080/",
     "height": 221
    },
    "colab_type": "code",
    "id": "DLIRRUzsJB5_",
    "outputId": "f58f47f9-177d-476c-ceec-5278a8fb2239"
   },
   "outputs": [
    {
     "data": {
      "text/plain": [
       "GridSearchCV(cv=5, error_score='raise-deprecating',\n",
       "             estimator=KNeighborsClassifier(algorithm='auto', leaf_size=30,\n",
       "                                            metric='minkowski',\n",
       "                                            metric_params=None, n_jobs=None,\n",
       "                                            n_neighbors=5, p=2,\n",
       "                                            weights='uniform'),\n",
       "             iid='warn', n_jobs=-1,\n",
       "             param_grid={'metric': ['euclidean', 'manhattan'],\n",
       "                         'n_neighbors': [3, 5, 7, 9, 11, 15],\n",
       "                         'weights': ['uniform', 'distance']},\n",
       "             pre_dispatch='2*n_jobs', refit=True, return_train_score=False,\n",
       "             scoring=None, verbose=0)"
      ]
     },
     "execution_count": 13,
     "metadata": {
      "tags": []
     },
     "output_type": "execute_result"
    }
   ],
   "source": [
    "grid_params = {\n",
    "    'n_neighbors': [3, 5, 7, 9, 11, 15],\n",
    "    'weights': ['uniform', 'distance'],\n",
    "    'metric': ['euclidean', 'manhattan']\n",
    "}\n",
    "\n",
    "model = GridSearchCV(KNeighborsClassifier(), grid_params, cv=5, n_jobs=-1)\n",
    "model.fit(x_tr,y_tr)"
   ]
  },
  {
   "cell_type": "code",
   "execution_count": 14,
   "metadata": {
    "colab": {
     "base_uri": "https://localhost:8080/",
     "height": 221
    },
    "colab_type": "code",
    "id": "vQTJ5MtgJdtB",
    "outputId": "1e9a5b98-1089-4f8f-9328-125c769193b1"
   },
   "outputs": [
    {
     "name": "stdout",
     "output_type": "stream",
     "text": [
      "Model Score: 0.331\n",
      "Confusion Matrix: \n",
      "[[89  9  7 15 15 18 24  4 27 25]\n",
      " [13 87 17 24 17 21 14 17 13 13]\n",
      " [13 18 69 19 16 16 16 35 12 22]\n",
      " [11 14 18 34 12 17 11 18 19 13]\n",
      " [16 20 17 18 95 14 20 13 16 11]\n",
      " [11 12  6 22  6 52 12  8 14 14]\n",
      " [25 14  9 14 16 19 61  7 37 22]\n",
      " [ 9  7 23 12  6  9  8 91  9 11]\n",
      " [ 8  2  6 13  5 16 17  1 29 16]\n",
      " [26  2 15 14 16 29 19 11 22 55]]\n"
     ]
    }
   ],
   "source": [
    "print(f'Model Score: {model.score(x_te, y_te)}')\n",
    "\n",
    "y_predict = model.predict(x_te)\n",
    "print(f'Confusion Matrix: \\n{confusion_matrix(y_predict, y_te)}')"
   ]
  },
  {
   "cell_type": "code",
   "execution_count": 0,
   "metadata": {
    "colab": {},
    "colab_type": "code",
    "id": "LKBgrH0FKHNg"
   },
   "outputs": [],
   "source": [
    "scaler = StandardScaler()\n",
    "scaler.fit(x_tr)\n",
    "x_train_scaled = scaler.transform(x_tr)\n",
    "x_test_scaled = scaler.transform(x_te)\n"
   ]
  },
  {
   "cell_type": "code",
   "execution_count": 16,
   "metadata": {
    "colab": {
     "base_uri": "https://localhost:8080/",
     "height": 279
    },
    "colab_type": "code",
    "id": "CMJOUkSUKada",
    "outputId": "4335ad6e-cd43-4db6-c9e0-57e0de50b8a9"
   },
   "outputs": [
    {
     "data": {
      "image/png": "[encoded data removed]",
      "text/plain": [
       "<Figure size 432x288 with 1 Axes>"
      ]
     },
     "metadata": {
      "tags": []
     },
     "output_type": "display_data"
    }
   ],
   "source": [
    "pca = PCA().fit(x_train_scaled)\n",
    "\n",
    "plt.plot(np.cumsum(pca.explained_variance_ratio_))\n",
    "plt.xlabel('Number of Components')\n",
    "plt.ylabel('Variance (%)')\n",
    "plt.show()"
   ]
  },
  {
   "cell_type": "code",
   "execution_count": 17,
   "metadata": {
    "colab": {
     "base_uri": "https://localhost:8080/",
     "height": 221
    },
    "colab_type": "code",
    "id": "A89cB6RsKfgo",
    "outputId": "fb38dd88-b165-49b0-8ba1-c9d445cd4c78"
   },
   "outputs": [
    {
     "data": {
      "text/plain": [
       "GridSearchCV(cv=5, error_score='raise-deprecating',\n",
       "             estimator=KNeighborsClassifier(algorithm='auto', leaf_size=30,\n",
       "                                            metric='minkowski',\n",
       "                                            metric_params=None, n_jobs=None,\n",
       "                                            n_neighbors=5, p=2,\n",
       "                                            weights='uniform'),\n",
       "             iid='warn', n_jobs=-1,\n",
       "             param_grid={'metric': ['euclidean', 'manhattan'],\n",
       "                         'n_neighbors': [3, 5, 7, 9, 11, 15],\n",
       "                         'weights': ['uniform', 'distance']},\n",
       "             pre_dispatch='2*n_jobs', refit=True, return_train_score=False,\n",
       "             scoring=None, verbose=0)"
      ]
     },
     "execution_count": 17,
     "metadata": {
      "tags": []
     },
     "output_type": "execute_result"
    }
   ],
   "source": [
    "grid_params = {\n",
    "    'n_neighbors': [3, 5, 7, 9, 11, 15],\n",
    "    'weights': ['uniform', 'distance'],\n",
    "    'metric': ['euclidean', 'manhattan']\n",
    "}\n",
    "\n",
    "model = GridSearchCV(KNeighborsClassifier(), grid_params, cv=5, n_jobs=-1)\n",
    "model.fit(x_train_scaled, y_tr)"
   ]
  },
  {
   "cell_type": "code",
   "execution_count": 18,
   "metadata": {
    "colab": {
     "base_uri": "https://localhost:8080/",
     "height": 221
    },
    "colab_type": "code",
    "id": "1ONk0JgsKrMb",
    "outputId": "a8b4be0b-124b-427b-914f-be1200ef8bf3"
   },
   "outputs": [
    {
     "name": "stdout",
     "output_type": "stream",
     "text": [
      "Model Score: 0.333\n",
      "Confusion Matrix: \n",
      "[[ 83   9   5  15  11  21  21   4  26  34]\n",
      " [ 12  91  17  25  23  22  15  16  13  16]\n",
      " [ 12  12  75  19  17  20  19  41  11  18]\n",
      " [  8  10  18  40   8  15  14  23  22  14]\n",
      " [ 16  26  13   7 101  15  19  12  15  13]\n",
      " [ 15  10   5  25   5  54  12   7  14  11]\n",
      " [ 31  12  10  13  19  22  59   8  36  21]\n",
      " [  9   8  22  17   5   5   7  84   5  14]\n",
      " [  9   4   8  10   2  15  16   1  31  13]\n",
      " [ 26   3  14  14  13  22  20   9  25  48]]\n"
     ]
    }
   ],
   "source": [
    "print(f'Model Score: {model.score(x_test_scaled, y_te)}')\n",
    "\n",
    "y_predict = model.predict(x_test_scaled)\n",
    "print(f'Confusion Matrix: \\n{confusion_matrix(y_predict, y_te)}')"
   ]
  },
  {
   "cell_type": "code",
   "execution_count": 19,
   "metadata": {
    "colab": {
     "base_uri": "https://localhost:8080/",
     "height": 306
    },
    "colab_type": "code",
    "id": "jbvO_oGALJQT",
    "outputId": "98d69f1f-b649-43ff-ce79-e82e09929fad"
   },
   "outputs": [
    {
     "name": "stdout",
     "output_type": "stream",
     "text": [
      "              precision    recall  f1-score   support\n",
      "\n",
      "           0       0.36      0.38      0.37       221\n",
      "           1       0.36      0.49      0.42       185\n",
      "           2       0.31      0.40      0.35       187\n",
      "           3       0.23      0.22      0.22       185\n",
      "           4       0.43      0.50      0.46       204\n",
      "           5       0.34      0.26      0.29       211\n",
      "           6       0.26      0.29      0.27       202\n",
      "           7       0.48      0.41      0.44       205\n",
      "           8       0.28      0.16      0.20       198\n",
      "           9       0.25      0.24      0.24       202\n",
      "\n",
      "    accuracy                           0.33      2000\n",
      "   macro avg       0.33      0.33      0.33      2000\n",
      "weighted avg       0.33      0.33      0.33      2000\n",
      "\n"
     ]
    }
   ],
   "source": [
    "print(classification_report(y_te, y_predict))"
   ]
  },
  {
   "cell_type": "markdown",
   "metadata": {
    "colab_type": "text",
    "id": "ERh0kE3GLymW"
   },
   "source": [
    "**Lets use Neural network to trail the data and see the resutls**"
   ]
  },
  {
   "cell_type": "code",
   "execution_count": 0,
   "metadata": {
    "colab": {},
    "colab_type": "code",
    "id": "-hZ7r20SLaEM"
   },
   "outputs": [],
   "source": [
    "# Max pooling of 2,2 pixel i.e. taking the max from 2 col & 2 rows\n",
    "# 1 layers of weights i.e. Dense Layer\n",
    "\n",
    "num_classes = 10      # Number of classes to model\n",
    "cnn = Sequential()\n",
    "cnn.add(Dense(32, input_shape = (1024, )))\n",
    "cnn.add(Activation('relu'))\n",
    "cnn.add(Dense(32))\n",
    "cnn.add(Activation('relu'))\n",
    "cnn.add(Dense(32))\n",
    "cnn.add(Activation('relu'))\n",
    "cnn.add(Dropout(0.2))\n",
    "cnn.add(Dense(128, activation = 'relu'))\n",
    "cnn.add(Dense(num_classes, activation='softmax'))\n",
    "    \n",
    "cnn.compile(\"adam\", \"categorical_crossentropy\", metrics=['accuracy'])"
   ]
  },
  {
   "cell_type": "code",
   "execution_count": 34,
   "metadata": {
    "colab": {
     "base_uri": "https://localhost:8080/",
     "height": 34
    },
    "colab_type": "code",
    "id": "2e-YlvTNO0JI",
    "outputId": "f783b8cc-4387-498b-e42e-3f51467d98d8"
   },
   "outputs": [
    {
     "data": {
      "text/plain": [
       "((42000, 1024), (42000,), (18000, 1024), (18000,))"
      ]
     },
     "execution_count": 34,
     "metadata": {
      "tags": []
     },
     "output_type": "execute_result"
    }
   ],
   "source": [
    "X_train.shape, y_train.shape, X_test.shape, y_test.shape"
   ]
  },
  {
   "cell_type": "code",
   "execution_count": 38,
   "metadata": {
    "colab": {
     "base_uri": "https://localhost:8080/",
     "height": 1000
    },
    "colab_type": "code",
    "id": "Uuz-UesEMB2O",
    "outputId": "4541b4ab-7a7c-45d8-dba3-35e8d664098c"
   },
   "outputs": [
    {
     "name": "stdout",
     "output_type": "stream",
     "text": [
      "WARNING:tensorflow:From /usr/local/lib/python3.6/dist-packages/tensorflow_core/python/ops/math_grad.py:1424: where (from tensorflow.python.ops.array_ops) is deprecated and will be removed in a future version.\n",
      "Instructions for updating:\n",
      "Use tf.where in 2.0, which has the same broadcast rule as np.where\n",
      "WARNING:tensorflow:From /usr/local/lib/python3.6/dist-packages/keras/backend/tensorflow_backend.py:1033: The name tf.assign_add is deprecated. Please use tf.compat.v1.assign_add instead.\n",
      "\n",
      "WARNING:tensorflow:From /usr/local/lib/python3.6/dist-packages/keras/backend/tensorflow_backend.py:1020: The name tf.assign is deprecated. Please use tf.compat.v1.assign instead.\n",
      "\n",
      "WARNING:tensorflow:From /usr/local/lib/python3.6/dist-packages/keras/backend/tensorflow_backend.py:3005: The name tf.Session is deprecated. Please use tf.compat.v1.Session instead.\n",
      "\n",
      "Train on 37800 samples, validate on 4200 samples\n",
      "Epoch 1/20\n",
      "WARNING:tensorflow:From /usr/local/lib/python3.6/dist-packages/keras/backend/tensorflow_backend.py:190: The name tf.get_default_session is deprecated. Please use tf.compat.v1.get_default_session instead.\n",
      "\n",
      "WARNING:tensorflow:From /usr/local/lib/python3.6/dist-packages/keras/backend/tensorflow_backend.py:197: The name tf.ConfigProto is deprecated. Please use tf.compat.v1.ConfigProto instead.\n",
      "\n",
      "WARNING:tensorflow:From /usr/local/lib/python3.6/dist-packages/keras/backend/tensorflow_backend.py:207: The name tf.global_variables is deprecated. Please use tf.compat.v1.global_variables instead.\n",
      "\n",
      "WARNING:tensorflow:From /usr/local/lib/python3.6/dist-packages/keras/backend/tensorflow_backend.py:216: The name tf.is_variable_initialized is deprecated. Please use tf.compat.v1.is_variable_initialized instead.\n",
      "\n",
      "WARNING:tensorflow:From /usr/local/lib/python3.6/dist-packages/keras/backend/tensorflow_backend.py:223: The name tf.variables_initializer is deprecated. Please use tf.compat.v1.variables_initializer instead.\n",
      "\n",
      "37800/37800 [==============================] - 3s 75us/step - loss: 2.3039 - acc: 0.0980 - val_loss: 2.3027 - val_acc: 0.0981\n",
      "Epoch 2/20\n",
      "37800/37800 [==============================] - 1s 34us/step - loss: 2.3027 - acc: 0.1011 - val_loss: 2.3029 - val_acc: 0.1005\n",
      "Epoch 3/20\n",
      "37800/37800 [==============================] - 1s 34us/step - loss: 2.3027 - acc: 0.1000 - val_loss: 2.3032 - val_acc: 0.0919\n",
      "Epoch 4/20\n",
      "37800/37800 [==============================] - 1s 34us/step - loss: 2.3027 - acc: 0.1013 - val_loss: 2.3031 - val_acc: 0.0979\n",
      "Epoch 5/20\n",
      "37800/37800 [==============================] - 1s 34us/step - loss: 2.3026 - acc: 0.1030 - val_loss: 2.3029 - val_acc: 0.0919\n",
      "Epoch 6/20\n",
      "37800/37800 [==============================] - 1s 33us/step - loss: 2.3026 - acc: 0.1007 - val_loss: 2.3030 - val_acc: 0.0979\n",
      "Epoch 7/20\n",
      "37800/37800 [==============================] - 1s 34us/step - loss: 2.3026 - acc: 0.1016 - val_loss: 2.3030 - val_acc: 0.0979\n",
      "Epoch 8/20\n",
      "37800/37800 [==============================] - 1s 34us/step - loss: 2.3028 - acc: 0.1004 - val_loss: 2.3033 - val_acc: 0.0919\n",
      "Epoch 9/20\n",
      "37800/37800 [==============================] - 1s 33us/step - loss: 2.3027 - acc: 0.1016 - val_loss: 2.3031 - val_acc: 0.0979\n",
      "Epoch 10/20\n",
      "37800/37800 [==============================] - 1s 34us/step - loss: 2.3026 - acc: 0.1021 - val_loss: 2.3030 - val_acc: 0.0979\n",
      "Epoch 11/20\n",
      "37800/37800 [==============================] - 1s 33us/step - loss: 2.3027 - acc: 0.1010 - val_loss: 2.3029 - val_acc: 0.0979\n",
      "Epoch 12/20\n",
      "37800/37800 [==============================] - 1s 33us/step - loss: 2.3026 - acc: 0.1024 - val_loss: 2.3029 - val_acc: 0.0979\n",
      "Epoch 13/20\n",
      "37800/37800 [==============================] - 1s 34us/step - loss: 2.3026 - acc: 0.1024 - val_loss: 2.3030 - val_acc: 0.0979\n",
      "Epoch 14/20\n",
      "37800/37800 [==============================] - 1s 35us/step - loss: 2.3026 - acc: 0.1011 - val_loss: 2.3030 - val_acc: 0.0979\n",
      "Epoch 15/20\n",
      "37800/37800 [==============================] - 1s 33us/step - loss: 2.3026 - acc: 0.1011 - val_loss: 2.3031 - val_acc: 0.0979\n",
      "Epoch 16/20\n",
      "37800/37800 [==============================] - 1s 34us/step - loss: 2.3026 - acc: 0.1016 - val_loss: 2.3030 - val_acc: 0.0979\n",
      "Epoch 17/20\n",
      "37800/37800 [==============================] - 1s 34us/step - loss: 2.3026 - acc: 0.1015 - val_loss: 2.3030 - val_acc: 0.0979\n",
      "Epoch 18/20\n",
      "37800/37800 [==============================] - 1s 34us/step - loss: 2.3026 - acc: 0.1018 - val_loss: 2.3030 - val_acc: 0.0979\n",
      "Epoch 19/20\n",
      "37800/37800 [==============================] - 1s 34us/step - loss: 2.3026 - acc: 0.1007 - val_loss: 2.3030 - val_acc: 0.0979\n",
      "Epoch 20/20\n",
      "37800/37800 [==============================] - 1s 34us/step - loss: 2.3026 - acc: 0.1024 - val_loss: 2.3029 - val_acc: 0.0979\n",
      "acc: 9.55%\n"
     ]
    }
   ],
   "source": [
    "\n",
    "## Train the data using 20 epochs and batch size 128\n",
    "history_cnn = cnn.fit(X_train1, y_train1,\n",
    "                          batch_size=128, epochs=20, verbose=1, validation_split=.1)\n",
    "\n",
    "scores = cnn.evaluate(X_test1, y_test1, batch_size = 128, verbose = 0)\n",
    "print(\"%s: %.2f%%\" % (cnn.metrics_names[1], scores[1]*100))"
   ]
  },
  {
   "cell_type": "code",
   "execution_count": 47,
   "metadata": {
    "colab": {
     "base_uri": "https://localhost:8080/",
     "height": 34
    },
    "colab_type": "code",
    "id": "iJKOUybVQg1H",
    "outputId": "19534ea4-e960-4a02-f897-9103e0d55fb5"
   },
   "outputs": [
    {
     "name": "stdout",
     "output_type": "stream",
     "text": [
      "18000/18000 [==============================] - 1s 28us/step\n"
     ]
    }
   ],
   "source": [
    "result1 = cnn.evaluate(X_test1, y_test1)"
   ]
  },
  {
   "cell_type": "code",
   "execution_count": 48,
   "metadata": {
    "colab": {
     "base_uri": "https://localhost:8080/",
     "height": 34
    },
    "colab_type": "code",
    "id": "g_iRpIftRBYS",
    "outputId": "6203f386-4db5-45bf-aa28-d46ef4b1b218"
   },
   "outputs": [
    {
     "name": "stdout",
     "output_type": "stream",
     "text": [
      "Test accuracy:  0.0955\n"
     ]
    }
   ],
   "source": [
    "print('Test accuracy: ', result1[1])"
   ]
  },
  {
   "cell_type": "code",
   "execution_count": 49,
   "metadata": {
    "colab": {
     "base_uri": "https://localhost:8080/",
     "height": 34
    },
    "colab_type": "code",
    "id": "h2QElwOLRVdq",
    "outputId": "26c6d954-2f25-412d-8521-88b307d159cc"
   },
   "outputs": [
    {
     "name": "stdout",
     "output_type": "stream",
     "text": [
      "18000/18000 [==============================] - 0s 12us/step\n"
     ]
    }
   ],
   "source": [
    "class_prediction =cnn.predict_classes(X_test,batch_size=128,verbose=True)"
   ]
  },
  {
   "cell_type": "code",
   "execution_count": 53,
   "metadata": {
    "colab": {
     "base_uri": "https://localhost:8080/",
     "height": 34
    },
    "colab_type": "code",
    "id": "7zVOf-k9Rz50",
    "outputId": "2b67ab45-f86c-4d5b-9082-f6f05f6edb81"
   },
   "outputs": [
    {
     "data": {
      "text/plain": [
       "array([3, 3, 3, 3, 3, 3, 3, 3, 3, 3])"
      ]
     },
     "execution_count": 53,
     "metadata": {
      "tags": []
     },
     "output_type": "execute_result"
    }
   ],
   "source": [
    "class_prediction[0:10]"
   ]
  },
  {
   "cell_type": "code",
   "execution_count": 0,
   "metadata": {
    "colab": {},
    "colab_type": "code",
    "id": "WqzGDg7aSxFL"
   },
   "outputs": [],
   "source": [
    "Predicted_class_label=class_prediction+1"
   ]
  },
  {
   "cell_type": "code",
   "execution_count": 60,
   "metadata": {
    "colab": {
     "base_uri": "https://localhost:8080/",
     "height": 34
    },
    "colab_type": "code",
    "id": "EsPbb7qJS2Dt",
    "outputId": "c3238466-8153-46ff-8e3d-586fb60a2a71"
   },
   "outputs": [
    {
     "data": {
      "text/plain": [
       "array([4, 4, 4, 4, 4, 4, 4, 4, 4, 4])"
      ]
     },
     "execution_count": 60,
     "metadata": {
      "tags": []
     },
     "output_type": "execute_result"
    }
   ],
   "source": [
    "Predicted_class_label[0:10]"
   ]
  },
  {
   "cell_type": "code",
   "execution_count": 58,
   "metadata": {
    "colab": {
     "base_uri": "https://localhost:8080/",
     "height": 306
    },
    "colab_type": "code",
    "id": "S5qs_FyGR7Yq",
    "outputId": "8beb9def-cb38-4b8a-9bef-2a45b6c36dca"
   },
   "outputs": [
    {
     "name": "stdout",
     "output_type": "stream",
     "text": [
      "              precision    recall  f1-score   support\n",
      "\n",
      "           0       0.00      0.00      0.00      1814\n",
      "           1       0.00      0.00      0.00      1828\n",
      "           2       0.00      0.00      0.00      1803\n",
      "           3       0.00      0.00      0.00      1719\n",
      "           4       0.10      1.00      0.18      1812\n",
      "           5       0.00      0.00      0.00      1768\n",
      "           6       0.00      0.00      0.00      1832\n",
      "           7       0.00      0.00      0.00      1808\n",
      "           8       0.00      0.00      0.00      1812\n",
      "           9       0.00      0.00      0.00      1804\n",
      "\n",
      "    accuracy                           0.10     18000\n",
      "   macro avg       0.01      0.10      0.02     18000\n",
      "weighted avg       0.01      0.10      0.02     18000\n",
      "\n"
     ]
    }
   ],
   "source": [
    "print(classification_report(y_test, Predicted_class_label))\n"
   ]
  },
  {
   "cell_type": "markdown",
   "metadata": {
    "colab_type": "text",
    "id": "HYbmo-ppTDc7"
   },
   "source": [
    "***Using Batch Normalisation***"
   ]
  },
  {
   "cell_type": "code",
   "execution_count": 0,
   "metadata": {
    "colab": {},
    "colab_type": "code",
    "id": "my2-bc50SYlr"
   },
   "outputs": [],
   "source": [
    "num_classes = 10      # Number of classes to model\n",
    "cnn = Sequential()\n",
    "cnn.add(Dense(32, input_shape = (1024, )))\n",
    "cnn.add(BatchNormalization())\n",
    "cnn.add(Activation('relu'))\n",
    "cnn.add(Dropout(0.2))\n",
    "cnn.add(Dense(32))\n",
    "cnn.add(BatchNormalization())\n",
    "cnn.add(Activation('relu'))\n",
    "cnn.add(Dropout(0.2))\n",
    "cnn.add(Dense(32))\n",
    "cnn.add(BatchNormalization())\n",
    "cnn.add(Activation('relu'))\n",
    "cnn.add(Dropout(0.2))\n",
    "cnn.add(Dense(32, activation = 'relu'))\n",
    "cnn.add(BatchNormalization())\n",
    "cnn.add(Dropout(0.2))\n",
    "cnn.add(Dense(num_classes, activation='softmax'))\n",
    "    \n",
    "cnn.compile(\"adam\", \"categorical_crossentropy\", metrics=['accuracy'])"
   ]
  },
  {
   "cell_type": "code",
   "execution_count": 73,
   "metadata": {
    "colab": {
     "base_uri": "https://localhost:8080/",
     "height": 731
    },
    "colab_type": "code",
    "id": "HbInXIajTtcM",
    "outputId": "488a5f1c-47b7-43b1-b9df-9e8074762172"
   },
   "outputs": [
    {
     "name": "stdout",
     "output_type": "stream",
     "text": [
      "Train on 37800 samples, validate on 4200 samples\n",
      "Epoch 1/20\n",
      "37800/37800 [==============================] - 2s 49us/step - loss: 1.2409 - acc: 0.5969 - val_loss: 1.4058 - val_acc: 0.5336\n",
      "Epoch 2/20\n",
      "37800/37800 [==============================] - 2s 50us/step - loss: 1.2397 - acc: 0.5951 - val_loss: 1.1316 - val_acc: 0.6252\n",
      "Epoch 3/20\n",
      "37800/37800 [==============================] - 2s 50us/step - loss: 1.2273 - acc: 0.6018 - val_loss: 1.0363 - val_acc: 0.6693\n",
      "Epoch 4/20\n",
      "37800/37800 [==============================] - 2s 50us/step - loss: 1.2166 - acc: 0.6042 - val_loss: 1.0212 - val_acc: 0.6786\n",
      "Epoch 5/20\n",
      "37800/37800 [==============================] - 2s 48us/step - loss: 1.2147 - acc: 0.6063 - val_loss: 1.0055 - val_acc: 0.6898\n",
      "Epoch 6/20\n",
      "37800/37800 [==============================] - 2s 48us/step - loss: 1.2072 - acc: 0.6110 - val_loss: 1.0415 - val_acc: 0.6733\n",
      "Epoch 7/20\n",
      "37800/37800 [==============================] - 2s 49us/step - loss: 1.2030 - acc: 0.6080 - val_loss: 1.1479 - val_acc: 0.6479\n",
      "Epoch 8/20\n",
      "37800/37800 [==============================] - 2s 48us/step - loss: 1.1950 - acc: 0.6142 - val_loss: 1.0914 - val_acc: 0.6393\n",
      "Epoch 9/20\n",
      "37800/37800 [==============================] - 2s 49us/step - loss: 1.1881 - acc: 0.6153 - val_loss: 1.1114 - val_acc: 0.6383\n",
      "Epoch 10/20\n",
      "37800/37800 [==============================] - 2s 48us/step - loss: 1.1896 - acc: 0.6155 - val_loss: 1.0274 - val_acc: 0.6774\n",
      "Epoch 11/20\n",
      "37800/37800 [==============================] - 2s 49us/step - loss: 1.1787 - acc: 0.6203 - val_loss: 1.1321 - val_acc: 0.6381\n",
      "Epoch 12/20\n",
      "37800/37800 [==============================] - 2s 48us/step - loss: 1.1772 - acc: 0.6201 - val_loss: 1.0290 - val_acc: 0.6793\n",
      "Epoch 13/20\n",
      "37800/37800 [==============================] - 2s 50us/step - loss: 1.1756 - acc: 0.6253 - val_loss: 0.9559 - val_acc: 0.7083\n",
      "Epoch 14/20\n",
      "37800/37800 [==============================] - 2s 50us/step - loss: 1.1730 - acc: 0.6211 - val_loss: 1.0308 - val_acc: 0.6669\n",
      "Epoch 15/20\n",
      "37800/37800 [==============================] - 2s 50us/step - loss: 1.1699 - acc: 0.6246 - val_loss: 1.0717 - val_acc: 0.6586\n",
      "Epoch 16/20\n",
      "37800/37800 [==============================] - 2s 50us/step - loss: 1.1614 - acc: 0.6282 - val_loss: 1.0999 - val_acc: 0.6588\n",
      "Epoch 17/20\n",
      "37800/37800 [==============================] - 2s 48us/step - loss: 1.1658 - acc: 0.6255 - val_loss: 1.0166 - val_acc: 0.6957\n",
      "Epoch 18/20\n",
      "37800/37800 [==============================] - 2s 49us/step - loss: 1.1617 - acc: 0.6279 - val_loss: 1.0382 - val_acc: 0.6702\n",
      "Epoch 19/20\n",
      "37800/37800 [==============================] - 2s 49us/step - loss: 1.1518 - acc: 0.6321 - val_loss: 1.0042 - val_acc: 0.6962\n",
      "Epoch 20/20\n",
      "37800/37800 [==============================] - 2s 49us/step - loss: 1.1636 - acc: 0.6282 - val_loss: 0.9683 - val_acc: 0.6957\n",
      "acc: 69.62%\n"
     ]
    }
   ],
   "source": [
    "## Train the data using 20 epochs and batch size 128\n",
    "history_cnn = cnn.fit(X_train1, y_train1,\n",
    "                          batch_size=128, epochs=20, verbose=1, validation_split=.1)\n",
    "\n",
    "scores = cnn.evaluate(X_test1, y_test1, batch_size = 128, verbose = 0)\n",
    "print(\"%s: %.2f%%\" % (cnn.metrics_names[1], scores[1]*100))"
   ]
  },
  {
   "cell_type": "code",
   "execution_count": 69,
   "metadata": {
    "colab": {
     "base_uri": "https://localhost:8080/",
     "height": 34
    },
    "colab_type": "code",
    "id": "Ada0zBzGUn8F",
    "outputId": "99c11115-2e0f-4329-b3a4-bab34da6b96f"
   },
   "outputs": [
    {
     "name": "stdout",
     "output_type": "stream",
     "text": [
      "18000/18000 [==============================] - 1s 35us/step\n"
     ]
    }
   ],
   "source": [
    "class_prediction =cnn.predict_classes(X_test1,batch_size=128,verbose=True)"
   ]
  },
  {
   "cell_type": "code",
   "execution_count": 71,
   "metadata": {
    "colab": {
     "base_uri": "https://localhost:8080/",
     "height": 34
    },
    "colab_type": "code",
    "id": "yXA1Mm3hU7lA",
    "outputId": "40e0fde8-014f-48fd-a58e-3aa06ee0ebba"
   },
   "outputs": [
    {
     "data": {
      "text/plain": [
       "array([9, 9, 9, 9, 9, 9, 9, 9, 9, 9])"
      ]
     },
     "execution_count": 71,
     "metadata": {
      "tags": []
     },
     "output_type": "execute_result"
    }
   ],
   "source": [
    "class_prediction[0:10]"
   ]
  },
  {
   "cell_type": "code",
   "execution_count": 74,
   "metadata": {
    "colab": {
     "base_uri": "https://localhost:8080/",
     "height": 34
    },
    "colab_type": "code",
    "id": "WZ8Q_lErU91m",
    "outputId": "c04dc23c-a900-4c78-cb30-4cd0b1dfe6bb"
   },
   "outputs": [
    {
     "name": "stdout",
     "output_type": "stream",
     "text": [
      "18000/18000 [==============================] - 0s 18us/step\n"
     ]
    }
   ],
   "source": [
    "class_probs = cnn.predict(X_test1,batch_size=128,verbose=True)"
   ]
  },
  {
   "cell_type": "code",
   "execution_count": 78,
   "metadata": {
    "colab": {
     "base_uri": "https://localhost:8080/",
     "height": 306
    },
    "colab_type": "code",
    "id": "is-orHGUkRTy",
    "outputId": "71cf34de-7771-416d-88bf-9745ba1ac2b3"
   },
   "outputs": [
    {
     "name": "stdout",
     "output_type": "stream",
     "text": [
      "              precision    recall  f1-score   support\n",
      "\n",
      "           0       0.00      0.00      0.00      1814\n",
      "           1       0.00      0.00      0.00      1828\n",
      "           2       0.00      0.00      0.00      1803\n",
      "           3       0.08      0.05      0.06      1719\n",
      "           4       0.00      0.00      0.00      1812\n",
      "           5       0.00      0.00      0.00      1768\n",
      "           6       0.00      0.00      0.00      1832\n",
      "           7       0.00      0.00      0.00      1808\n",
      "           8       0.00      0.00      0.00      1812\n",
      "           9       0.10      0.94      0.18      1804\n",
      "\n",
      "    accuracy                           0.10     18000\n",
      "   macro avg       0.02      0.10      0.02     18000\n",
      "weighted avg       0.02      0.10      0.02     18000\n",
      "\n"
     ]
    }
   ],
   "source": [
    "print(classification_report(y_test, class_prediction))"
   ]
  },
  {
   "cell_type": "code",
   "execution_count": 0,
   "metadata": {
    "colab": {},
    "colab_type": "code",
    "id": "w-YXm65UkWVp"
   },
   "outputs": [],
   "source": []
  }
 ],
 "metadata": {
  "colab": {
   "name": "Untitled2.ipynb",
   "provenance": []
  },
  "kernelspec": {
   "display_name": "Python 3",
   "language": "python",
   "name": "python3"
  },
  "language_info": {
   "codemirror_mode": {
    "name": "ipython",
    "version": 3
   },
   "file_extension": ".py",
   "mimetype": "text/x-python",
   "name": "python",
   "nbconvert_exporter": "python",
   "pygments_lexer": "ipython3",
   "version": "3.7.4"
  }
 },
 "nbformat": 4,
 "nbformat_minor": 1
}
